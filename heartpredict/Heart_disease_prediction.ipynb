{
 "cells": [
  {
   "cell_type": "markdown",
   "metadata": {},
   "source": [
    "# 1. Importing Libraries"
   ]
  },
  {
   "cell_type": "code",
   "execution_count": 125,
   "metadata": {},
   "outputs": [
    {
     "data": {
      "text/html": [
       "        <script type=\"text/javascript\">\n",
       "        window.PlotlyConfig = {MathJaxConfig: 'local'};\n",
       "        if (window.MathJax) {MathJax.Hub.Config({SVG: {font: \"STIX-Web\"}});}\n",
       "        if (typeof require !== 'undefined') {\n",
       "        require.undef(\"plotly\");\n",
       "        requirejs.config({\n",
       "            paths: {\n",
       "                'plotly': ['https://cdn.plot.ly/plotly-latest.min']\n",
       "            }\n",
       "        });\n",
       "        require(['plotly'], function(Plotly) {\n",
       "            window._Plotly = Plotly;\n",
       "        });\n",
       "        }\n",
       "        </script>\n",
       "        "
      ]
     },
     "metadata": {},
     "output_type": "display_data"
    },
    {
     "data": {
      "text/html": [
       "        <script type=\"text/javascript\">\n",
       "        window.PlotlyConfig = {MathJaxConfig: 'local'};\n",
       "        if (window.MathJax) {MathJax.Hub.Config({SVG: {font: \"STIX-Web\"}});}\n",
       "        if (typeof require !== 'undefined') {\n",
       "        require.undef(\"plotly\");\n",
       "        requirejs.config({\n",
       "            paths: {\n",
       "                'plotly': ['https://cdn.plot.ly/plotly-latest.min']\n",
       "            }\n",
       "        });\n",
       "        require(['plotly'], function(Plotly) {\n",
       "            window._Plotly = Plotly;\n",
       "        });\n",
       "        }\n",
       "        </script>\n",
       "        "
      ]
     },
     "metadata": {},
     "output_type": "display_data"
    }
   ],
   "source": [
    "import sklearn\n",
    "import numpy as np\n",
    "import pandas as pd\n",
    "import plotly as plot\n",
    "import plotly.express as px\n",
    "import plotly.graph_objs as go\n",
    "\n",
    "import cufflinks as cf\n",
    "import matplotlib.pyplot as plt\n",
    "import seaborn as sns\n",
    "import os\n",
    "from sklearn.metrics import accuracy_score\n",
    "import plotly.offline as pyo\n",
    "from plotly.offline import init_notebook_mode,plot,iplot\n",
    "\n",
    "from sklearn.model_selection import train_test_split\n",
    "\n",
    "pyo.init_notebook_mode(connected=True)\n",
    "cf.go_offline()"
   ]
  },
  {
   "cell_type": "markdown",
   "metadata": {},
   "source": [
    "# 2. Data collection"
   ]
  },
  {
   "cell_type": "markdown",
   "metadata": {},
   "source": [
    "Data collection is the process of gathering information in an established systematic way that enables one to test hypothesis and evaluate outcomes easily."
   ]
  },
  {
   "cell_type": "code",
   "execution_count": 126,
   "metadata": {},
   "outputs": [],
   "source": [
    "dt= pd.read_csv('data.csv')"
   ]
  },
  {
   "cell_type": "markdown",
   "metadata": {},
   "source": [
    "Lets see some of the sample entries of dataset"
   ]
  },
  {
   "cell_type": "code",
   "execution_count": 127,
   "metadata": {},
   "outputs": [
    {
     "data": {
      "text/html": [
       "<div>\n",
       "<style scoped>\n",
       "    .dataframe tbody tr th:only-of-type {\n",
       "        vertical-align: middle;\n",
       "    }\n",
       "\n",
       "    .dataframe tbody tr th {\n",
       "        vertical-align: top;\n",
       "    }\n",
       "\n",
       "    .dataframe thead th {\n",
       "        text-align: right;\n",
       "    }\n",
       "</style>\n",
       "<table border=\"1\" class=\"dataframe\">\n",
       "  <thead>\n",
       "    <tr style=\"text-align: right;\">\n",
       "      <th></th>\n",
       "      <th>age</th>\n",
       "      <th>sex</th>\n",
       "      <th>cp</th>\n",
       "      <th>trestbps</th>\n",
       "      <th>chol</th>\n",
       "      <th>fbs</th>\n",
       "      <th>restecg</th>\n",
       "      <th>thalach</th>\n",
       "      <th>exang</th>\n",
       "      <th>oldpeak</th>\n",
       "      <th>slope</th>\n",
       "      <th>ca</th>\n",
       "      <th>thal</th>\n",
       "      <th>target</th>\n",
       "    </tr>\n",
       "  </thead>\n",
       "  <tbody>\n",
       "    <tr>\n",
       "      <th>0</th>\n",
       "      <td>70</td>\n",
       "      <td>1</td>\n",
       "      <td>4</td>\n",
       "      <td>130</td>\n",
       "      <td>322</td>\n",
       "      <td>0</td>\n",
       "      <td>2</td>\n",
       "      <td>109</td>\n",
       "      <td>0</td>\n",
       "      <td>2.4</td>\n",
       "      <td>2</td>\n",
       "      <td>3</td>\n",
       "      <td>3</td>\n",
       "      <td>2</td>\n",
       "    </tr>\n",
       "    <tr>\n",
       "      <th>1</th>\n",
       "      <td>67</td>\n",
       "      <td>0</td>\n",
       "      <td>3</td>\n",
       "      <td>115</td>\n",
       "      <td>564</td>\n",
       "      <td>0</td>\n",
       "      <td>2</td>\n",
       "      <td>160</td>\n",
       "      <td>0</td>\n",
       "      <td>1.6</td>\n",
       "      <td>2</td>\n",
       "      <td>0</td>\n",
       "      <td>7</td>\n",
       "      <td>1</td>\n",
       "    </tr>\n",
       "    <tr>\n",
       "      <th>2</th>\n",
       "      <td>57</td>\n",
       "      <td>1</td>\n",
       "      <td>2</td>\n",
       "      <td>124</td>\n",
       "      <td>261</td>\n",
       "      <td>0</td>\n",
       "      <td>0</td>\n",
       "      <td>141</td>\n",
       "      <td>0</td>\n",
       "      <td>0.3</td>\n",
       "      <td>1</td>\n",
       "      <td>0</td>\n",
       "      <td>7</td>\n",
       "      <td>2</td>\n",
       "    </tr>\n",
       "    <tr>\n",
       "      <th>3</th>\n",
       "      <td>64</td>\n",
       "      <td>1</td>\n",
       "      <td>4</td>\n",
       "      <td>128</td>\n",
       "      <td>263</td>\n",
       "      <td>0</td>\n",
       "      <td>0</td>\n",
       "      <td>105</td>\n",
       "      <td>1</td>\n",
       "      <td>0.2</td>\n",
       "      <td>2</td>\n",
       "      <td>1</td>\n",
       "      <td>7</td>\n",
       "      <td>1</td>\n",
       "    </tr>\n",
       "    <tr>\n",
       "      <th>4</th>\n",
       "      <td>74</td>\n",
       "      <td>0</td>\n",
       "      <td>2</td>\n",
       "      <td>120</td>\n",
       "      <td>269</td>\n",
       "      <td>0</td>\n",
       "      <td>2</td>\n",
       "      <td>121</td>\n",
       "      <td>1</td>\n",
       "      <td>0.2</td>\n",
       "      <td>1</td>\n",
       "      <td>1</td>\n",
       "      <td>3</td>\n",
       "      <td>1</td>\n",
       "    </tr>\n",
       "  </tbody>\n",
       "</table>\n",
       "</div>"
      ],
      "text/plain": [
       "   age  sex  cp  trestbps  chol  fbs  restecg  thalach  exang  oldpeak  slope  \\\n",
       "0   70    1   4       130   322    0        2      109      0      2.4      2   \n",
       "1   67    0   3       115   564    0        2      160      0      1.6      2   \n",
       "2   57    1   2       124   261    0        0      141      0      0.3      1   \n",
       "3   64    1   4       128   263    0        0      105      1      0.2      2   \n",
       "4   74    0   2       120   269    0        2      121      1      0.2      1   \n",
       "\n",
       "   ca  thal  target  \n",
       "0   3     3       2  \n",
       "1   0     7       1  \n",
       "2   0     7       2  \n",
       "3   1     7       1  \n",
       "4   1     3       1  "
      ]
     },
     "execution_count": 127,
     "metadata": {},
     "output_type": "execute_result"
    }
   ],
   "source": [
    "dt.head()"
   ]
  },
  {
   "cell_type": "markdown",
   "metadata": {},
   "source": [
    "# 3. Dataset description"
   ]
  },
  {
   "cell_type": "markdown",
   "metadata": {},
   "source": [
    "Our Predictor (Y, Positive or Negative diagnosis of Heart Disease) is determined by 13 features (X):\n",
    "The detailed description of all the features are as follows:\n",
    "1. age - Patients Age in years (Numeric)\n",
    "2. sex : Gender of patient (1= Male, 0= Female) (Binary)\n",
    "3. (cp) - Type of chest pain experienced by patient (4 values -Ordinal):\n",
    "Value 1: typical angina ,\n",
    "Value 2: atypical angina,\n",
    "Value 3: non-anginal pain ,\n",
    "Value 4: asymptomatic\n",
    "4. (trestbps) - Level of blood pressure at resting mode in mm/HG (Numerical)\n",
    "5. (chol)- serum cholesterol in mg/dl (Numeric)\n",
    "6. (fbs)- Blood sugar levels on fasting > 120 mg/dl represents as 1 in case of true and 0 as false (Nominal)\n",
    "(1 = true; 0 = false)\n",
    "7. (restecg)- Result of electrocardiogram while at rest are represented in 3 distinct values 0 : Normal 1: Abnormality in ST-T wave 2: Left ventricular hypertrophy (Nominal)\n",
    "8. (thalach)- maximum heart rate achieved\n",
    "9. (exang) exercise induced angina (binary) (1 = yes; 0 = no)\n",
    "10. (oldpeak) = ST depression induced by exercise relative to rest\n",
    "11. (slope) of the peak exercise ST segment (Ordinal) (Value 1: up sloping , Value 2: flat , Value 3: down sloping )\n",
    "12. (ca) number of major vessels (0–3, Ordinal) colored by fluoroscopy\n",
    "13. (thal) maximum heart rate achieved — (Ordinal): 3 = normal; 6 = fixed defect; 7 = reversible defect\n"
   ]
  },
  {
   "cell_type": "markdown",
   "metadata": {},
   "source": [
    "## 4. Data Cleaning & Preprocessing"
   ]
  },
  {
   "cell_type": "markdown",
   "metadata": {},
   "source": [
    "### Data cleaning:\n",
    "It is the process of ensuring that your data is correct and useable by identifying any errors in the data, or missing data by correcting or deleting them.\n",
    "\n"
   ]
  },
  {
   "cell_type": "markdown",
   "metadata": {},
   "source": [
    "### Data preprocessing:\n",
    "It is a data mining technique that involves transforming raw data into an understandable format. It includes normalisation and standardisation, transformation, feature extraction and selection, etc. The product of data preprocessing is the final training dataset."
   ]
  },
  {
   "cell_type": "markdown",
   "metadata": {},
   "source": [
    "##### In this step we will first change the name of columns as some of the columns have weird naming pattern"
   ]
  },
  {
   "cell_type": "code",
   "execution_count": 128,
   "metadata": {},
   "outputs": [],
   "source": [
    "# renaming features to proper name\n",
    "dt.columns = ['age', 'sex', 'chest_pain_type', 'resting_blood_pressure', 'cholesterol', 'fasting_blood_sugar', 'rest_ecg', 'max_heart_rate_achieved',\n",
    "       'exercise_induced_angina', 'st_depression', 'st_slope', 'count_of_major_vessels' , 'max_heart_rate' , 'target']"
   ]
  },
  {
   "cell_type": "code",
   "execution_count": 129,
   "metadata": {},
   "outputs": [
    {
     "data": {
      "text/html": [
       "<div>\n",
       "<style scoped>\n",
       "    .dataframe tbody tr th:only-of-type {\n",
       "        vertical-align: middle;\n",
       "    }\n",
       "\n",
       "    .dataframe tbody tr th {\n",
       "        vertical-align: top;\n",
       "    }\n",
       "\n",
       "    .dataframe thead th {\n",
       "        text-align: right;\n",
       "    }\n",
       "</style>\n",
       "<table border=\"1\" class=\"dataframe\">\n",
       "  <thead>\n",
       "    <tr style=\"text-align: right;\">\n",
       "      <th></th>\n",
       "      <th>age</th>\n",
       "      <th>sex</th>\n",
       "      <th>chest_pain_type</th>\n",
       "      <th>resting_blood_pressure</th>\n",
       "      <th>cholesterol</th>\n",
       "      <th>fasting_blood_sugar</th>\n",
       "      <th>rest_ecg</th>\n",
       "      <th>max_heart_rate_achieved</th>\n",
       "      <th>exercise_induced_angina</th>\n",
       "      <th>st_depression</th>\n",
       "      <th>st_slope</th>\n",
       "      <th>count_of_major_vessels</th>\n",
       "      <th>max_heart_rate</th>\n",
       "      <th>target</th>\n",
       "    </tr>\n",
       "  </thead>\n",
       "  <tbody>\n",
       "    <tr>\n",
       "      <th>0</th>\n",
       "      <td>70</td>\n",
       "      <td>1</td>\n",
       "      <td>4</td>\n",
       "      <td>130</td>\n",
       "      <td>322</td>\n",
       "      <td>0</td>\n",
       "      <td>2</td>\n",
       "      <td>109</td>\n",
       "      <td>0</td>\n",
       "      <td>2.4</td>\n",
       "      <td>2</td>\n",
       "      <td>3</td>\n",
       "      <td>3</td>\n",
       "      <td>2</td>\n",
       "    </tr>\n",
       "    <tr>\n",
       "      <th>1</th>\n",
       "      <td>67</td>\n",
       "      <td>0</td>\n",
       "      <td>3</td>\n",
       "      <td>115</td>\n",
       "      <td>564</td>\n",
       "      <td>0</td>\n",
       "      <td>2</td>\n",
       "      <td>160</td>\n",
       "      <td>0</td>\n",
       "      <td>1.6</td>\n",
       "      <td>2</td>\n",
       "      <td>0</td>\n",
       "      <td>7</td>\n",
       "      <td>1</td>\n",
       "    </tr>\n",
       "    <tr>\n",
       "      <th>2</th>\n",
       "      <td>57</td>\n",
       "      <td>1</td>\n",
       "      <td>2</td>\n",
       "      <td>124</td>\n",
       "      <td>261</td>\n",
       "      <td>0</td>\n",
       "      <td>0</td>\n",
       "      <td>141</td>\n",
       "      <td>0</td>\n",
       "      <td>0.3</td>\n",
       "      <td>1</td>\n",
       "      <td>0</td>\n",
       "      <td>7</td>\n",
       "      <td>2</td>\n",
       "    </tr>\n",
       "    <tr>\n",
       "      <th>3</th>\n",
       "      <td>64</td>\n",
       "      <td>1</td>\n",
       "      <td>4</td>\n",
       "      <td>128</td>\n",
       "      <td>263</td>\n",
       "      <td>0</td>\n",
       "      <td>0</td>\n",
       "      <td>105</td>\n",
       "      <td>1</td>\n",
       "      <td>0.2</td>\n",
       "      <td>2</td>\n",
       "      <td>1</td>\n",
       "      <td>7</td>\n",
       "      <td>1</td>\n",
       "    </tr>\n",
       "    <tr>\n",
       "      <th>4</th>\n",
       "      <td>74</td>\n",
       "      <td>0</td>\n",
       "      <td>2</td>\n",
       "      <td>120</td>\n",
       "      <td>269</td>\n",
       "      <td>0</td>\n",
       "      <td>2</td>\n",
       "      <td>121</td>\n",
       "      <td>1</td>\n",
       "      <td>0.2</td>\n",
       "      <td>1</td>\n",
       "      <td>1</td>\n",
       "      <td>3</td>\n",
       "      <td>1</td>\n",
       "    </tr>\n",
       "  </tbody>\n",
       "</table>\n",
       "</div>"
      ],
      "text/plain": [
       "   age  sex  chest_pain_type  resting_blood_pressure  cholesterol  \\\n",
       "0   70    1                4                     130          322   \n",
       "1   67    0                3                     115          564   \n",
       "2   57    1                2                     124          261   \n",
       "3   64    1                4                     128          263   \n",
       "4   74    0                2                     120          269   \n",
       "\n",
       "   fasting_blood_sugar  rest_ecg  max_heart_rate_achieved  \\\n",
       "0                    0         2                      109   \n",
       "1                    0         2                      160   \n",
       "2                    0         0                      141   \n",
       "3                    0         0                      105   \n",
       "4                    0         2                      121   \n",
       "\n",
       "   exercise_induced_angina  st_depression  st_slope  count_of_major_vessels  \\\n",
       "0                        0            2.4         2                       3   \n",
       "1                        0            1.6         2                       0   \n",
       "2                        0            0.3         1                       0   \n",
       "3                        1            0.2         2                       1   \n",
       "4                        1            0.2         1                       1   \n",
       "\n",
       "   max_heart_rate  target  \n",
       "0               3       2  \n",
       "1               7       1  \n",
       "2               7       2  \n",
       "3               7       1  \n",
       "4               3       1  "
      ]
     },
     "execution_count": 129,
     "metadata": {},
     "output_type": "execute_result"
    }
   ],
   "source": [
    "dt.head()"
   ]
  },
  {
   "cell_type": "markdown",
   "metadata": {},
   "source": [
    "##### lets check how many persons are suffering from heart disease: \n",
    "    "
   ]
  },
  {
   "cell_type": "code",
   "execution_count": 130,
   "metadata": {},
   "outputs": [
    {
     "data": {
      "text/plain": [
       "target\n",
       "1    150\n",
       "2    120\n",
       "dtype: int64"
      ]
     },
     "execution_count": 130,
     "metadata": {},
     "output_type": "execute_result"
    }
   ],
   "source": [
    "dt.groupby('target').size()"
   ]
  },
  {
   "cell_type": "markdown",
   "metadata": {},
   "source": [
    "###### Let’s have a look to the statistical summary about our dataset."
   ]
  },
  {
   "cell_type": "code",
   "execution_count": 131,
   "metadata": {
    "scrolled": true
   },
   "outputs": [
    {
     "data": {
      "text/html": [
       "<div>\n",
       "<style scoped>\n",
       "    .dataframe tbody tr th:only-of-type {\n",
       "        vertical-align: middle;\n",
       "    }\n",
       "\n",
       "    .dataframe tbody tr th {\n",
       "        vertical-align: top;\n",
       "    }\n",
       "\n",
       "    .dataframe thead th {\n",
       "        text-align: right;\n",
       "    }\n",
       "</style>\n",
       "<table border=\"1\" class=\"dataframe\">\n",
       "  <thead>\n",
       "    <tr style=\"text-align: right;\">\n",
       "      <th></th>\n",
       "      <th>age</th>\n",
       "      <th>sex</th>\n",
       "      <th>chest_pain_type</th>\n",
       "      <th>resting_blood_pressure</th>\n",
       "      <th>cholesterol</th>\n",
       "      <th>fasting_blood_sugar</th>\n",
       "      <th>rest_ecg</th>\n",
       "      <th>max_heart_rate_achieved</th>\n",
       "      <th>exercise_induced_angina</th>\n",
       "      <th>st_depression</th>\n",
       "      <th>st_slope</th>\n",
       "      <th>count_of_major_vessels</th>\n",
       "      <th>max_heart_rate</th>\n",
       "      <th>target</th>\n",
       "    </tr>\n",
       "  </thead>\n",
       "  <tbody>\n",
       "    <tr>\n",
       "      <th>count</th>\n",
       "      <td>270.000000</td>\n",
       "      <td>270.000000</td>\n",
       "      <td>270.000000</td>\n",
       "      <td>270.000000</td>\n",
       "      <td>270.000000</td>\n",
       "      <td>270.000000</td>\n",
       "      <td>270.000000</td>\n",
       "      <td>270.000000</td>\n",
       "      <td>270.000000</td>\n",
       "      <td>270.00000</td>\n",
       "      <td>270.000000</td>\n",
       "      <td>270.000000</td>\n",
       "      <td>270.000000</td>\n",
       "      <td>270.000000</td>\n",
       "    </tr>\n",
       "    <tr>\n",
       "      <th>mean</th>\n",
       "      <td>54.433333</td>\n",
       "      <td>0.677778</td>\n",
       "      <td>3.174074</td>\n",
       "      <td>131.344444</td>\n",
       "      <td>249.659259</td>\n",
       "      <td>0.148148</td>\n",
       "      <td>1.022222</td>\n",
       "      <td>149.677778</td>\n",
       "      <td>0.329630</td>\n",
       "      <td>1.05000</td>\n",
       "      <td>1.585185</td>\n",
       "      <td>0.670370</td>\n",
       "      <td>4.696296</td>\n",
       "      <td>1.444444</td>\n",
       "    </tr>\n",
       "    <tr>\n",
       "      <th>std</th>\n",
       "      <td>9.109067</td>\n",
       "      <td>0.468195</td>\n",
       "      <td>0.950090</td>\n",
       "      <td>17.861608</td>\n",
       "      <td>51.686237</td>\n",
       "      <td>0.355906</td>\n",
       "      <td>0.997891</td>\n",
       "      <td>23.165717</td>\n",
       "      <td>0.470952</td>\n",
       "      <td>1.14521</td>\n",
       "      <td>0.614390</td>\n",
       "      <td>0.943896</td>\n",
       "      <td>1.940659</td>\n",
       "      <td>0.497827</td>\n",
       "    </tr>\n",
       "    <tr>\n",
       "      <th>min</th>\n",
       "      <td>29.000000</td>\n",
       "      <td>0.000000</td>\n",
       "      <td>1.000000</td>\n",
       "      <td>94.000000</td>\n",
       "      <td>126.000000</td>\n",
       "      <td>0.000000</td>\n",
       "      <td>0.000000</td>\n",
       "      <td>71.000000</td>\n",
       "      <td>0.000000</td>\n",
       "      <td>0.00000</td>\n",
       "      <td>1.000000</td>\n",
       "      <td>0.000000</td>\n",
       "      <td>3.000000</td>\n",
       "      <td>1.000000</td>\n",
       "    </tr>\n",
       "    <tr>\n",
       "      <th>25%</th>\n",
       "      <td>48.000000</td>\n",
       "      <td>0.000000</td>\n",
       "      <td>3.000000</td>\n",
       "      <td>120.000000</td>\n",
       "      <td>213.000000</td>\n",
       "      <td>0.000000</td>\n",
       "      <td>0.000000</td>\n",
       "      <td>133.000000</td>\n",
       "      <td>0.000000</td>\n",
       "      <td>0.00000</td>\n",
       "      <td>1.000000</td>\n",
       "      <td>0.000000</td>\n",
       "      <td>3.000000</td>\n",
       "      <td>1.000000</td>\n",
       "    </tr>\n",
       "    <tr>\n",
       "      <th>50%</th>\n",
       "      <td>55.000000</td>\n",
       "      <td>1.000000</td>\n",
       "      <td>3.000000</td>\n",
       "      <td>130.000000</td>\n",
       "      <td>245.000000</td>\n",
       "      <td>0.000000</td>\n",
       "      <td>2.000000</td>\n",
       "      <td>153.500000</td>\n",
       "      <td>0.000000</td>\n",
       "      <td>0.80000</td>\n",
       "      <td>2.000000</td>\n",
       "      <td>0.000000</td>\n",
       "      <td>3.000000</td>\n",
       "      <td>1.000000</td>\n",
       "    </tr>\n",
       "    <tr>\n",
       "      <th>75%</th>\n",
       "      <td>61.000000</td>\n",
       "      <td>1.000000</td>\n",
       "      <td>4.000000</td>\n",
       "      <td>140.000000</td>\n",
       "      <td>280.000000</td>\n",
       "      <td>0.000000</td>\n",
       "      <td>2.000000</td>\n",
       "      <td>166.000000</td>\n",
       "      <td>1.000000</td>\n",
       "      <td>1.60000</td>\n",
       "      <td>2.000000</td>\n",
       "      <td>1.000000</td>\n",
       "      <td>7.000000</td>\n",
       "      <td>2.000000</td>\n",
       "    </tr>\n",
       "    <tr>\n",
       "      <th>max</th>\n",
       "      <td>77.000000</td>\n",
       "      <td>1.000000</td>\n",
       "      <td>4.000000</td>\n",
       "      <td>200.000000</td>\n",
       "      <td>564.000000</td>\n",
       "      <td>1.000000</td>\n",
       "      <td>2.000000</td>\n",
       "      <td>202.000000</td>\n",
       "      <td>1.000000</td>\n",
       "      <td>6.20000</td>\n",
       "      <td>3.000000</td>\n",
       "      <td>3.000000</td>\n",
       "      <td>7.000000</td>\n",
       "      <td>2.000000</td>\n",
       "    </tr>\n",
       "  </tbody>\n",
       "</table>\n",
       "</div>"
      ],
      "text/plain": [
       "              age         sex  chest_pain_type  resting_blood_pressure  \\\n",
       "count  270.000000  270.000000       270.000000              270.000000   \n",
       "mean    54.433333    0.677778         3.174074              131.344444   \n",
       "std      9.109067    0.468195         0.950090               17.861608   \n",
       "min     29.000000    0.000000         1.000000               94.000000   \n",
       "25%     48.000000    0.000000         3.000000              120.000000   \n",
       "50%     55.000000    1.000000         3.000000              130.000000   \n",
       "75%     61.000000    1.000000         4.000000              140.000000   \n",
       "max     77.000000    1.000000         4.000000              200.000000   \n",
       "\n",
       "       cholesterol  fasting_blood_sugar    rest_ecg  max_heart_rate_achieved  \\\n",
       "count   270.000000           270.000000  270.000000               270.000000   \n",
       "mean    249.659259             0.148148    1.022222               149.677778   \n",
       "std      51.686237             0.355906    0.997891                23.165717   \n",
       "min     126.000000             0.000000    0.000000                71.000000   \n",
       "25%     213.000000             0.000000    0.000000               133.000000   \n",
       "50%     245.000000             0.000000    2.000000               153.500000   \n",
       "75%     280.000000             0.000000    2.000000               166.000000   \n",
       "max     564.000000             1.000000    2.000000               202.000000   \n",
       "\n",
       "       exercise_induced_angina  st_depression    st_slope  \\\n",
       "count               270.000000      270.00000  270.000000   \n",
       "mean                  0.329630        1.05000    1.585185   \n",
       "std                   0.470952        1.14521    0.614390   \n",
       "min                   0.000000        0.00000    1.000000   \n",
       "25%                   0.000000        0.00000    1.000000   \n",
       "50%                   0.000000        0.80000    2.000000   \n",
       "75%                   1.000000        1.60000    2.000000   \n",
       "max                   1.000000        6.20000    3.000000   \n",
       "\n",
       "       count_of_major_vessels  max_heart_rate      target  \n",
       "count              270.000000      270.000000  270.000000  \n",
       "mean                 0.670370        4.696296    1.444444  \n",
       "std                  0.943896        1.940659    0.497827  \n",
       "min                  0.000000        3.000000    1.000000  \n",
       "25%                  0.000000        3.000000    1.000000  \n",
       "50%                  0.000000        3.000000    1.000000  \n",
       "75%                  1.000000        7.000000    2.000000  \n",
       "max                  3.000000        7.000000    2.000000  "
      ]
     },
     "execution_count": 131,
     "metadata": {},
     "output_type": "execute_result"
    }
   ],
   "source": [
    "dt.describe() #tells some mathematical functions"
   ]
  },
  {
   "cell_type": "raw",
   "metadata": {},
   "source": [
    "Categorical variable:\n",
    "A categorical variable (sometimes called a nominal variable) is one that has two or more categories, but there is no intrinsic ordering to the categories. For example, gender is a categorical variable having two categories (male and female) and there is no intrinsic ordering to the categories.\n",
    "\n",
    "Feature encoding: \n",
    "It is the process of transforming a categorical variable into a continuous variable and using them in the model."
   ]
  },
  {
   "cell_type": "markdown",
   "metadata": {},
   "source": [
    "Lets check counts of categorical features:\n",
    "    "
   ]
  },
  {
   "cell_type": "code",
   "execution_count": 132,
   "metadata": {},
   "outputs": [
    {
     "data": {
      "text/plain": [
       "1    183\n",
       "0     87\n",
       "Name: sex, dtype: int64"
      ]
     },
     "execution_count": 132,
     "metadata": {},
     "output_type": "execute_result"
    }
   ],
   "source": [
    "dt['sex'].value_counts()"
   ]
  },
  {
   "cell_type": "code",
   "execution_count": 150,
   "metadata": {},
   "outputs": [
    {
     "data": {
      "text/plain": [
       "1    130\n",
       "2    122\n",
       "3     18\n",
       "Name: st_slope, dtype: int64"
      ]
     },
     "execution_count": 150,
     "metadata": {},
     "output_type": "execute_result"
    }
   ],
   "source": [
    "dt['st_slope'].value_counts()"
   ]
  },
  {
   "cell_type": "code",
   "execution_count": 151,
   "metadata": {},
   "outputs": [
    {
     "data": {
      "text/plain": [
       "2    137\n",
       "0    131\n",
       "1      2\n",
       "Name: rest_ecg, dtype: int64"
      ]
     },
     "execution_count": 151,
     "metadata": {},
     "output_type": "execute_result"
    }
   ],
   "source": [
    "dt['rest_ecg'].value_counts()"
   ]
  },
  {
   "cell_type": "code",
   "execution_count": 152,
   "metadata": {},
   "outputs": [
    {
     "data": {
      "text/plain": [
       "4    129\n",
       "3     79\n",
       "2     42\n",
       "1     20\n",
       "Name: chest_pain_type, dtype: int64"
      ]
     },
     "execution_count": 152,
     "metadata": {},
     "output_type": "execute_result"
    }
   ],
   "source": [
    "dt['chest_pain_type'].value_counts()"
   ]
  },
  {
   "cell_type": "markdown",
   "metadata": {},
   "source": [
    "##### checking if any value is null or any entry is missing"
   ]
  },
  {
   "cell_type": "code",
   "execution_count": 153,
   "metadata": {},
   "outputs": [
    {
     "name": "stdout",
     "output_type": "stream",
     "text": [
      "<class 'pandas.core.frame.DataFrame'>\n",
      "RangeIndex: 270 entries, 0 to 269\n",
      "Data columns (total 14 columns):\n",
      " #   Column                   Non-Null Count  Dtype  \n",
      "---  ------                   --------------  -----  \n",
      " 0   age                      270 non-null    int64  \n",
      " 1   sex                      270 non-null    int64  \n",
      " 2   chest_pain_type          270 non-null    int64  \n",
      " 3   resting_blood_pressure   270 non-null    int64  \n",
      " 4   cholesterol              270 non-null    int64  \n",
      " 5   fasting_blood_sugar      270 non-null    int64  \n",
      " 6   rest_ecg                 270 non-null    int64  \n",
      " 7   max_heart_rate_achieved  270 non-null    int64  \n",
      " 8   exercise_induced_angina  270 non-null    int64  \n",
      " 9   st_depression            270 non-null    float64\n",
      " 10  st_slope                 270 non-null    int64  \n",
      " 11  count_of_major_vessels   270 non-null    int64  \n",
      " 12  max_heart_rate           270 non-null    int64  \n",
      " 13  target                   270 non-null    int64  \n",
      "dtypes: float64(1), int64(13)\n",
      "memory usage: 29.7 KB\n"
     ]
    }
   ],
   "source": [
    "dt.info()"
   ]
  },
  {
   "cell_type": "raw",
   "metadata": {},
   "source": [
    "So, there are no missing entries in the dataset thats great. Next we will move towards exploring the dataset by performing detailed EDA"
   ]
  },
  {
   "cell_type": "markdown",
   "metadata": {},
   "source": [
    "# 5. Exploratory Data Analysis (EDA)"
   ]
  },
  {
   "cell_type": "raw",
   "metadata": {},
   "source": [
    "Exploratory Data Analysis (EDA):\n",
    "It is an approach to analysing data sets to summarize their main characteristics, often with visual methods. Following are the different steps involved in EDA :\n",
    "Data Collection\n",
    "Data Cleaning\n",
    "Data Preprocessing\n",
    "Data Visualisation"
   ]
  },
  {
   "cell_type": "code",
   "execution_count": 154,
   "metadata": {},
   "outputs": [
    {
     "data": {
      "text/plain": [
       "(270, 14)"
      ]
     },
     "execution_count": 154,
     "metadata": {},
     "output_type": "execute_result"
    }
   ],
   "source": [
    "# first checking the shape of the dataset\n",
    "dt.shape"
   ]
  },
  {
   "cell_type": "markdown",
   "metadata": {},
   "source": [
    "#### So, there are total 1189 records and 11 features with 1 target variable. Lets check the summary of numerical and categorical features."
   ]
  },
  {
   "cell_type": "raw",
   "metadata": {},
   "source": [
    "Numerical Features:"
   ]
  },
  {
   "cell_type": "code",
   "execution_count": 155,
   "metadata": {},
   "outputs": [
    {
     "data": {
      "text/html": [
       "<div>\n",
       "<style scoped>\n",
       "    .dataframe tbody tr th:only-of-type {\n",
       "        vertical-align: middle;\n",
       "    }\n",
       "\n",
       "    .dataframe tbody tr th {\n",
       "        vertical-align: top;\n",
       "    }\n",
       "\n",
       "    .dataframe thead th {\n",
       "        text-align: right;\n",
       "    }\n",
       "</style>\n",
       "<table border=\"1\" class=\"dataframe\">\n",
       "  <thead>\n",
       "    <tr style=\"text-align: right;\">\n",
       "      <th></th>\n",
       "      <th>age</th>\n",
       "      <th>sex</th>\n",
       "      <th>chest_pain_type</th>\n",
       "      <th>resting_blood_pressure</th>\n",
       "      <th>cholesterol</th>\n",
       "      <th>fasting_blood_sugar</th>\n",
       "      <th>rest_ecg</th>\n",
       "      <th>max_heart_rate_achieved</th>\n",
       "      <th>exercise_induced_angina</th>\n",
       "      <th>st_depression</th>\n",
       "      <th>st_slope</th>\n",
       "      <th>count_of_major_vessels</th>\n",
       "      <th>max_heart_rate</th>\n",
       "      <th>target</th>\n",
       "    </tr>\n",
       "  </thead>\n",
       "  <tbody>\n",
       "    <tr>\n",
       "      <th>count</th>\n",
       "      <td>270.000000</td>\n",
       "      <td>270.000000</td>\n",
       "      <td>270.000000</td>\n",
       "      <td>270.000000</td>\n",
       "      <td>270.000000</td>\n",
       "      <td>270.000000</td>\n",
       "      <td>270.000000</td>\n",
       "      <td>270.000000</td>\n",
       "      <td>270.000000</td>\n",
       "      <td>270.00000</td>\n",
       "      <td>270.000000</td>\n",
       "      <td>270.000000</td>\n",
       "      <td>270.000000</td>\n",
       "      <td>270.000000</td>\n",
       "    </tr>\n",
       "    <tr>\n",
       "      <th>mean</th>\n",
       "      <td>54.433333</td>\n",
       "      <td>0.677778</td>\n",
       "      <td>3.174074</td>\n",
       "      <td>131.344444</td>\n",
       "      <td>249.659259</td>\n",
       "      <td>0.148148</td>\n",
       "      <td>1.022222</td>\n",
       "      <td>149.677778</td>\n",
       "      <td>0.329630</td>\n",
       "      <td>1.05000</td>\n",
       "      <td>1.585185</td>\n",
       "      <td>0.670370</td>\n",
       "      <td>4.696296</td>\n",
       "      <td>1.444444</td>\n",
       "    </tr>\n",
       "    <tr>\n",
       "      <th>std</th>\n",
       "      <td>9.109067</td>\n",
       "      <td>0.468195</td>\n",
       "      <td>0.950090</td>\n",
       "      <td>17.861608</td>\n",
       "      <td>51.686237</td>\n",
       "      <td>0.355906</td>\n",
       "      <td>0.997891</td>\n",
       "      <td>23.165717</td>\n",
       "      <td>0.470952</td>\n",
       "      <td>1.14521</td>\n",
       "      <td>0.614390</td>\n",
       "      <td>0.943896</td>\n",
       "      <td>1.940659</td>\n",
       "      <td>0.497827</td>\n",
       "    </tr>\n",
       "    <tr>\n",
       "      <th>min</th>\n",
       "      <td>29.000000</td>\n",
       "      <td>0.000000</td>\n",
       "      <td>1.000000</td>\n",
       "      <td>94.000000</td>\n",
       "      <td>126.000000</td>\n",
       "      <td>0.000000</td>\n",
       "      <td>0.000000</td>\n",
       "      <td>71.000000</td>\n",
       "      <td>0.000000</td>\n",
       "      <td>0.00000</td>\n",
       "      <td>1.000000</td>\n",
       "      <td>0.000000</td>\n",
       "      <td>3.000000</td>\n",
       "      <td>1.000000</td>\n",
       "    </tr>\n",
       "    <tr>\n",
       "      <th>25%</th>\n",
       "      <td>48.000000</td>\n",
       "      <td>0.000000</td>\n",
       "      <td>3.000000</td>\n",
       "      <td>120.000000</td>\n",
       "      <td>213.000000</td>\n",
       "      <td>0.000000</td>\n",
       "      <td>0.000000</td>\n",
       "      <td>133.000000</td>\n",
       "      <td>0.000000</td>\n",
       "      <td>0.00000</td>\n",
       "      <td>1.000000</td>\n",
       "      <td>0.000000</td>\n",
       "      <td>3.000000</td>\n",
       "      <td>1.000000</td>\n",
       "    </tr>\n",
       "    <tr>\n",
       "      <th>50%</th>\n",
       "      <td>55.000000</td>\n",
       "      <td>1.000000</td>\n",
       "      <td>3.000000</td>\n",
       "      <td>130.000000</td>\n",
       "      <td>245.000000</td>\n",
       "      <td>0.000000</td>\n",
       "      <td>2.000000</td>\n",
       "      <td>153.500000</td>\n",
       "      <td>0.000000</td>\n",
       "      <td>0.80000</td>\n",
       "      <td>2.000000</td>\n",
       "      <td>0.000000</td>\n",
       "      <td>3.000000</td>\n",
       "      <td>1.000000</td>\n",
       "    </tr>\n",
       "    <tr>\n",
       "      <th>75%</th>\n",
       "      <td>61.000000</td>\n",
       "      <td>1.000000</td>\n",
       "      <td>4.000000</td>\n",
       "      <td>140.000000</td>\n",
       "      <td>280.000000</td>\n",
       "      <td>0.000000</td>\n",
       "      <td>2.000000</td>\n",
       "      <td>166.000000</td>\n",
       "      <td>1.000000</td>\n",
       "      <td>1.60000</td>\n",
       "      <td>2.000000</td>\n",
       "      <td>1.000000</td>\n",
       "      <td>7.000000</td>\n",
       "      <td>2.000000</td>\n",
       "    </tr>\n",
       "    <tr>\n",
       "      <th>max</th>\n",
       "      <td>77.000000</td>\n",
       "      <td>1.000000</td>\n",
       "      <td>4.000000</td>\n",
       "      <td>200.000000</td>\n",
       "      <td>564.000000</td>\n",
       "      <td>1.000000</td>\n",
       "      <td>2.000000</td>\n",
       "      <td>202.000000</td>\n",
       "      <td>1.000000</td>\n",
       "      <td>6.20000</td>\n",
       "      <td>3.000000</td>\n",
       "      <td>3.000000</td>\n",
       "      <td>7.000000</td>\n",
       "      <td>2.000000</td>\n",
       "    </tr>\n",
       "  </tbody>\n",
       "</table>\n",
       "</div>"
      ],
      "text/plain": [
       "              age         sex  chest_pain_type  resting_blood_pressure  \\\n",
       "count  270.000000  270.000000       270.000000              270.000000   \n",
       "mean    54.433333    0.677778         3.174074              131.344444   \n",
       "std      9.109067    0.468195         0.950090               17.861608   \n",
       "min     29.000000    0.000000         1.000000               94.000000   \n",
       "25%     48.000000    0.000000         3.000000              120.000000   \n",
       "50%     55.000000    1.000000         3.000000              130.000000   \n",
       "75%     61.000000    1.000000         4.000000              140.000000   \n",
       "max     77.000000    1.000000         4.000000              200.000000   \n",
       "\n",
       "       cholesterol  fasting_blood_sugar    rest_ecg  max_heart_rate_achieved  \\\n",
       "count   270.000000           270.000000  270.000000               270.000000   \n",
       "mean    249.659259             0.148148    1.022222               149.677778   \n",
       "std      51.686237             0.355906    0.997891                23.165717   \n",
       "min     126.000000             0.000000    0.000000                71.000000   \n",
       "25%     213.000000             0.000000    0.000000               133.000000   \n",
       "50%     245.000000             0.000000    2.000000               153.500000   \n",
       "75%     280.000000             0.000000    2.000000               166.000000   \n",
       "max     564.000000             1.000000    2.000000               202.000000   \n",
       "\n",
       "       exercise_induced_angina  st_depression    st_slope  \\\n",
       "count               270.000000      270.00000  270.000000   \n",
       "mean                  0.329630        1.05000    1.585185   \n",
       "std                   0.470952        1.14521    0.614390   \n",
       "min                   0.000000        0.00000    1.000000   \n",
       "25%                   0.000000        0.00000    1.000000   \n",
       "50%                   0.000000        0.80000    2.000000   \n",
       "75%                   1.000000        1.60000    2.000000   \n",
       "max                   1.000000        6.20000    3.000000   \n",
       "\n",
       "       count_of_major_vessels  max_heart_rate      target  \n",
       "count              270.000000      270.000000  270.000000  \n",
       "mean                 0.670370        4.696296    1.444444  \n",
       "std                  0.943896        1.940659    0.497827  \n",
       "min                  0.000000        3.000000    1.000000  \n",
       "25%                  0.000000        3.000000    1.000000  \n",
       "50%                  0.000000        3.000000    1.000000  \n",
       "75%                  1.000000        7.000000    2.000000  \n",
       "max                  3.000000        7.000000    2.000000  "
      ]
     },
     "execution_count": 155,
     "metadata": {},
     "output_type": "execute_result"
    }
   ],
   "source": [
    "dt.describe(include =[np.number])"
   ]
  },
  {
   "cell_type": "markdown",
   "metadata": {},
   "source": [
    "We will now look at the distribution of each attribute by discretization the values into buckets and review the frequency in each bucket as histograms.\n",
    "This lets you note interesting properties of the attribute distributions such as the possible normal distribution of attributes"
   ]
  },
  {
   "cell_type": "code",
   "execution_count": 156,
   "metadata": {},
   "outputs": [
    {
     "data": {
      "image/png": "[encoded data removed]",
      "text/plain": [
       "<Figure size 720x720 with 16 Axes>"
      ]
     },
     "metadata": {
      "needs_background": "light"
     },
     "output_type": "display_data"
    }
   ],
   "source": [
    "dt.hist(figsize=(10,10))\n",
    "plt.show()"
   ]
  },
  {
   "cell_type": "markdown",
   "metadata": {},
   "source": [
    "## Distribution of Heart disease (target variable)"
   ]
  },
  {
   "cell_type": "markdown",
   "metadata": {},
   "source": [
    "#### First we will check if our data is balanced or not!"
   ]
  },
  {
   "cell_type": "code",
   "execution_count": 157,
   "metadata": {},
   "outputs": [
    {
     "data": {
      "image/png": "[encoded data removed]",
      "text/plain": [
       "<Figure size 1008x432 with 2 Axes>"
      ]
     },
     "metadata": {
      "needs_background": "light"
     },
     "output_type": "display_data"
    }
   ],
   "source": [
    "## Plotting attrition of employees\n",
    "fig, (ax1, ax2) = plt.subplots(nrows=1, ncols=2, sharey=False, figsize=(14,6))\n",
    "\n",
    "ax1 = dt['target'].value_counts().plot.pie( x=\"Heart disease\" ,y ='no.of patients', \n",
    "                   autopct = \"%1.0f%%\",labels=[\"Heart Disease\",\"Normal\"], startangle = 60,ax=ax1);\n",
    "ax1.set(title = 'Percentage of Heart disease patients in Dataset')\n",
    "\n",
    "ax2 = dt[\"target\"].value_counts().plot(kind=\"barh\" ,ax =ax2)\n",
    "for i,j in enumerate(dt[\"target\"].value_counts().values):\n",
    "    ax2.text(.5,i,j,fontsize=12)\n",
    "    \n",
    "ax2.set(title = 'No. of Heart disease patients in Dataset')\n",
    "plt.show()"
   ]
  },
  {
   "cell_type": "markdown",
   "metadata": {},
   "source": [
    "##### The dataset is balanced having 629 heart disease patients and 561 normal patients."
   ]
  },
  {
   "cell_type": "raw",
   "metadata": {},
   "source": [
    "If the data is not balanced, then we use Resampling (Oversampling and Undersampling) techniques.\n",
    "Undersampling is the process where you randomly delete some of the observations from the majority class in order to match the numbers with the minority class. An easy way to do that is shown in the code below:"
   ]
  },
  {
   "cell_type": "markdown",
   "metadata": {},
   "source": [
    "#### Now we will create separate dataframe for normal and heart patients"
   ]
  },
  {
   "cell_type": "code",
   "execution_count": 158,
   "metadata": {},
   "outputs": [],
   "source": [
    "attr_1=dt[dt['target']==1] \n",
    "\n",
    "attr_0=dt[dt['target']==0] #normal patients"
   ]
  },
  {
   "cell_type": "markdown",
   "metadata": {},
   "source": [
    "##### Age distribution of normal patients VS Age distribution of heart disease patients."
   ]
  },
  {
   "cell_type": "code",
   "execution_count": 159,
   "metadata": {},
   "outputs": [
    {
     "name": "stderr",
     "output_type": "stream",
     "text": [
      "C:\\Users\\HP\\anaconda3\\lib\\site-packages\\seaborn\\distributions.py:200: RuntimeWarning:\n",
      "\n",
      "Mean of empty slice.\n",
      "\n",
      "C:\\Users\\HP\\anaconda3\\lib\\site-packages\\numpy\\core\\_methods.py:161: RuntimeWarning:\n",
      "\n",
      "invalid value encountered in double_scalars\n",
      "\n",
      "C:\\Users\\HP\\anaconda3\\lib\\site-packages\\numpy\\lib\\histograms.py:908: RuntimeWarning:\n",
      "\n",
      "invalid value encountered in true_divide\n",
      "\n"
     ]
    },
    {
     "data": {
      "image/png": "[encoded data removed]",
      "text/plain": [
       "<Figure size 864x720 with 2 Axes>"
      ]
     },
     "metadata": {
      "needs_background": "light"
     },
     "output_type": "display_data"
    }
   ],
   "source": [
    "plt.figure(figsize=(12,10))\n",
    "\n",
    "plt.subplot(221)\n",
    "sns.distplot(attr_0['age'])\n",
    "plt.title('AGE DISTRIBUTION OF NORMAL PATIENTS', fontsize=10, weight='bold')\n",
    "\n",
    "plt.subplot(222)\n",
    "sns.distplot(attr_1['age'])\n",
    "plt.title('AGE DISTRIBUTION OF HEART DISEASE PATIENTS', fontsize=10, weight='bold')\n",
    "\n",
    "\n",
    "plt.show()"
   ]
  },
  {
   "cell_type": "markdown",
   "metadata": {},
   "source": [
    "### Distribution of Numerical features"
   ]
  },
  {
   "cell_type": "code",
   "execution_count": 160,
   "metadata": {},
   "outputs": [
    {
     "data": {
      "text/plain": [
       "<seaborn.axisgrid.PairGrid at 0x2b7ddb4a048>"
      ]
     },
     "execution_count": 160,
     "metadata": {},
     "output_type": "execute_result"
    },
    {
     "data": {
      "image/png": "[encoded data removed]",
      "text/plain": [
       "<Figure size 582.375x540 with 12 Axes>"
      ]
     },
     "metadata": {
      "needs_background": "light"
     },
     "output_type": "display_data"
    }
   ],
   "source": [
    "sns.pairplot(dt, hue = 'target', vars = ['age', 'resting_blood_pressure', 'cholesterol'] )"
   ]
  },
  {
   "cell_type": "markdown",
   "metadata": {},
   "source": [
    "From the above plot it is clear that as the age increases chances of heart disease increases\n",
    "\n"
   ]
  },
  {
   "cell_type": "markdown",
   "metadata": {},
   "source": [
    "## Correlation Matrix"
   ]
  },
  {
   "cell_type": "raw",
   "metadata": {},
   "source": [
    "\n",
    "A correlation matrix is a tabular data representing the ‘correlation coefficient’ between pairs of variables in a given data.\n",
    "A correlation coefficient is a number that denotes the strength of the relationship between two variables.\n",
    "\n"
   ]
  },
  {
   "cell_type": "code",
   "execution_count": 161,
   "metadata": {},
   "outputs": [
    {
     "data": {
      "text/plain": [
       "(14.5, -0.5)"
      ]
     },
     "execution_count": 161,
     "metadata": {},
     "output_type": "execute_result"
    },
    {
     "data": {
      "image/png": "[encoded data removed]",
      "text/plain": [
       "<Figure size 1080x1080 with 2 Axes>"
      ]
     },
     "metadata": {
      "needs_background": "light"
     },
     "output_type": "display_data"
    }
   ],
   "source": [
    "corr_matrix = dt.corr()\n",
    "\n",
    "fig, ax = plt.subplots(figsize=(15, 15))\n",
    "ax = sns.heatmap(corr_matrix,\n",
    "                 annot=True,\n",
    "                 linewidths=0.5,\n",
    "                 fmt=\".2f\",\n",
    "                 cmap=\"YlGnBu\");\n",
    "bottom, top = ax.get_ylim()\n",
    "ax.set_ylim(bottom + 0.5, top - 0.5)"
   ]
  },
  {
   "cell_type": "markdown",
   "metadata": {},
   "source": [
    "#### Correlation with target variable"
   ]
  },
  {
   "cell_type": "code",
   "execution_count": 162,
   "metadata": {},
   "outputs": [
    {
     "data": {
      "text/plain": [
       "<matplotlib.axes._subplots.AxesSubplot at 0x2b7df788ac8>"
      ]
     },
     "execution_count": 162,
     "metadata": {},
     "output_type": "execute_result"
    },
    {
     "data": {
      "image/png": "[encoded data removed]",
      "text/plain": [
       "<Figure size 864x648 with 1 Axes>"
      ]
     },
     "metadata": {
      "needs_background": "light"
     },
     "output_type": "display_data"
    }
   ],
   "source": [
    "dt.drop('target', axis=1).corrwith(dt.target).plot(kind='bar', grid=True, figsize=(12, 9), \n",
    "                                                   title=\"Correlation with target\")"
   ]
  },
  {
   "cell_type": "markdown",
   "metadata": {},
   "source": [
    "##### Conclusion from above graph:"
   ]
  },
  {
   "cell_type": "raw",
   "metadata": {},
   "source": [
    "1.rest_ecg_left ventricular hypertrophy is the least correlated with the target variable.\n",
    "2.All other variables have a significant correlation with the target variable."
   ]
  },
  {
   "cell_type": "markdown",
   "metadata": {},
   "source": [
    "#### Now before splitting dataset into train and test we first encode categorical variables as dummy variables as Most Machine Learning Algorithms cannot work with categorical variables directly, they need to be converted to numbers..\n",
    "\n"
   ]
  },
  {
   "cell_type": "code",
   "execution_count": 163,
   "metadata": {
    "scrolled": true
   },
   "outputs": [
    {
     "data": {
      "text/html": [
       "<div>\n",
       "<style scoped>\n",
       "    .dataframe tbody tr th:only-of-type {\n",
       "        vertical-align: middle;\n",
       "    }\n",
       "\n",
       "    .dataframe tbody tr th {\n",
       "        vertical-align: top;\n",
       "    }\n",
       "\n",
       "    .dataframe thead th {\n",
       "        text-align: right;\n",
       "    }\n",
       "</style>\n",
       "<table border=\"1\" class=\"dataframe\">\n",
       "  <thead>\n",
       "    <tr style=\"text-align: right;\">\n",
       "      <th></th>\n",
       "      <th>age</th>\n",
       "      <th>sex</th>\n",
       "      <th>chest_pain_type</th>\n",
       "      <th>resting_blood_pressure</th>\n",
       "      <th>cholesterol</th>\n",
       "      <th>fasting_blood_sugar</th>\n",
       "      <th>rest_ecg</th>\n",
       "      <th>max_heart_rate_achieved</th>\n",
       "      <th>exercise_induced_angina</th>\n",
       "      <th>st_depression</th>\n",
       "      <th>st_slope</th>\n",
       "      <th>count_of_major_vessels</th>\n",
       "      <th>max_heart_rate</th>\n",
       "      <th>target</th>\n",
       "    </tr>\n",
       "  </thead>\n",
       "  <tbody>\n",
       "    <tr>\n",
       "      <th>0</th>\n",
       "      <td>70</td>\n",
       "      <td>1</td>\n",
       "      <td>4</td>\n",
       "      <td>130</td>\n",
       "      <td>322</td>\n",
       "      <td>0</td>\n",
       "      <td>2</td>\n",
       "      <td>109</td>\n",
       "      <td>0</td>\n",
       "      <td>2.4</td>\n",
       "      <td>2</td>\n",
       "      <td>3</td>\n",
       "      <td>3</td>\n",
       "      <td>2</td>\n",
       "    </tr>\n",
       "    <tr>\n",
       "      <th>1</th>\n",
       "      <td>67</td>\n",
       "      <td>0</td>\n",
       "      <td>3</td>\n",
       "      <td>115</td>\n",
       "      <td>564</td>\n",
       "      <td>0</td>\n",
       "      <td>2</td>\n",
       "      <td>160</td>\n",
       "      <td>0</td>\n",
       "      <td>1.6</td>\n",
       "      <td>2</td>\n",
       "      <td>0</td>\n",
       "      <td>7</td>\n",
       "      <td>1</td>\n",
       "    </tr>\n",
       "    <tr>\n",
       "      <th>2</th>\n",
       "      <td>57</td>\n",
       "      <td>1</td>\n",
       "      <td>2</td>\n",
       "      <td>124</td>\n",
       "      <td>261</td>\n",
       "      <td>0</td>\n",
       "      <td>0</td>\n",
       "      <td>141</td>\n",
       "      <td>0</td>\n",
       "      <td>0.3</td>\n",
       "      <td>1</td>\n",
       "      <td>0</td>\n",
       "      <td>7</td>\n",
       "      <td>2</td>\n",
       "    </tr>\n",
       "    <tr>\n",
       "      <th>3</th>\n",
       "      <td>64</td>\n",
       "      <td>1</td>\n",
       "      <td>4</td>\n",
       "      <td>128</td>\n",
       "      <td>263</td>\n",
       "      <td>0</td>\n",
       "      <td>0</td>\n",
       "      <td>105</td>\n",
       "      <td>1</td>\n",
       "      <td>0.2</td>\n",
       "      <td>2</td>\n",
       "      <td>1</td>\n",
       "      <td>7</td>\n",
       "      <td>1</td>\n",
       "    </tr>\n",
       "    <tr>\n",
       "      <th>4</th>\n",
       "      <td>74</td>\n",
       "      <td>0</td>\n",
       "      <td>2</td>\n",
       "      <td>120</td>\n",
       "      <td>269</td>\n",
       "      <td>0</td>\n",
       "      <td>2</td>\n",
       "      <td>121</td>\n",
       "      <td>1</td>\n",
       "      <td>0.2</td>\n",
       "      <td>1</td>\n",
       "      <td>1</td>\n",
       "      <td>3</td>\n",
       "      <td>1</td>\n",
       "    </tr>\n",
       "  </tbody>\n",
       "</table>\n",
       "</div>"
      ],
      "text/plain": [
       "   age  sex  chest_pain_type  resting_blood_pressure  cholesterol  \\\n",
       "0   70    1                4                     130          322   \n",
       "1   67    0                3                     115          564   \n",
       "2   57    1                2                     124          261   \n",
       "3   64    1                4                     128          263   \n",
       "4   74    0                2                     120          269   \n",
       "\n",
       "   fasting_blood_sugar  rest_ecg  max_heart_rate_achieved  \\\n",
       "0                    0         2                      109   \n",
       "1                    0         2                      160   \n",
       "2                    0         0                      141   \n",
       "3                    0         0                      105   \n",
       "4                    0         2                      121   \n",
       "\n",
       "   exercise_induced_angina  st_depression  st_slope  count_of_major_vessels  \\\n",
       "0                        0            2.4         2                       3   \n",
       "1                        0            1.6         2                       0   \n",
       "2                        0            0.3         1                       0   \n",
       "3                        1            0.2         2                       1   \n",
       "4                        1            0.2         1                       1   \n",
       "\n",
       "   max_heart_rate  target  \n",
       "0               3       2  \n",
       "1               7       1  \n",
       "2               7       2  \n",
       "3               7       1  \n",
       "4               3       1  "
      ]
     },
     "execution_count": 163,
     "metadata": {},
     "output_type": "execute_result"
    }
   ],
   "source": [
    "dt = pd.get_dummies(dt, drop_first=True)\n",
    "\n",
    "dt.head()"
   ]
  },
  {
   "cell_type": "markdown",
   "metadata": {},
   "source": [
    "# 6. Build and Train the Model"
   ]
  },
  {
   "cell_type": "markdown",
   "metadata": {},
   "source": [
    "## 6.1. Train Test Split"
   ]
  },
  {
   "cell_type": "code",
   "execution_count": 164,
   "metadata": {},
   "outputs": [],
   "source": [
    "# segregating dataset into features i.e., X and target variables i.e., y\n",
    "X = dt.drop(['target'],axis=1)\n",
    "y = dt['target']"
   ]
  },
  {
   "cell_type": "markdown",
   "metadata": {},
   "source": [
    "#### Now let’s split the data into training and test sets.\n",
    " I will split the data into 80% training and 20% testing:"
   ]
  },
  {
   "cell_type": "code",
   "execution_count": 165,
   "metadata": {},
   "outputs": [],
   "source": [
    "X_train, X_test, y_train, y_test = train_test_split(X, y, stratify=y, test_size=0.2,shuffle=True, random_state=5)"
   ]
  },
  {
   "cell_type": "code",
   "execution_count": 166,
   "metadata": {},
   "outputs": [
    {
     "name": "stdout",
     "output_type": "stream",
     "text": [
      "Distribution of traget variable in training set\n",
      "1    120\n",
      "2     96\n",
      "Name: target, dtype: int64\n",
      "Distribution of traget variable in test set\n",
      "1    30\n",
      "2    24\n",
      "Name: target, dtype: int64\n"
     ]
    }
   ],
   "source": [
    "## checking distribution of traget variable in train test split\n",
    "print('Distribution of traget variable in training set')\n",
    "print(y_train.value_counts())\n",
    "\n",
    "print('Distribution of traget variable in test set')\n",
    "print(y_test.value_counts())"
   ]
  },
  {
   "cell_type": "code",
   "execution_count": 167,
   "metadata": {},
   "outputs": [
    {
     "name": "stdout",
     "output_type": "stream",
     "text": [
      "------------Training Set------------------\n",
      "(216, 13)\n",
      "(216,)\n",
      "------------Test Set------------------\n",
      "(54, 13)\n",
      "(54,)\n"
     ]
    }
   ],
   "source": [
    "print('------------Training Set------------------')\n",
    "print(X_train.shape)\n",
    "print(y_train.shape)\n",
    "\n",
    "print('------------Test Set------------------')\n",
    "print(X_test.shape)\n",
    "print(y_test.shape)"
   ]
  },
  {
   "cell_type": "markdown",
   "metadata": {},
   "source": [
    "## 6.2.Feature Scaling"
   ]
  },
  {
   "cell_type": "raw",
   "metadata": {},
   "source": [
    "Feature Scaling is a technique to standardize the independent features present in the data in a fixed range. It is performed during the data pre-processing to handle highly varying magnitudes or values or units. If feature scaling is not done, then a machine learning algorithm tends to weigh greater values, higher and consider smaller values as the lower values, regardless of the unit of the values."
   ]
  },
  {
   "cell_type": "code",
   "execution_count": 168,
   "metadata": {},
   "outputs": [],
   "source": [
    "from sklearn.preprocessing import StandardScaler    \n",
    "st_x= StandardScaler()    \n",
    "x_train= st_x.fit_transform(X_train)    \n",
    "x_test= st_x.transform(X_test)    "
   ]
  },
  {
   "cell_type": "markdown",
   "metadata": {},
   "source": [
    "## 6.3. Fitting the Random Forest algorithm to the training set:"
   ]
  },
  {
   "cell_type": "markdown",
   "metadata": {},
   "source": [
    "Now we’ll Train various Classification Models on the Training set & see which yields the highest accuracy. We will compare the accuracy of Logistic Regression, K-NN (k-Nearest Neighbours), SVM (Support Vector Machine), Naives Bayes Classifier, Decision Trees,and Random Forest"
   ]
  },
  {
   "cell_type": "markdown",
   "metadata": {},
   "source": [
    "1.Random Forest Algorithm\n"
   ]
  },
  {
   "cell_type": "code",
   "execution_count": 169,
   "metadata": {},
   "outputs": [
    {
     "data": {
      "text/plain": [
       "RandomForestClassifier(bootstrap=True, ccp_alpha=0.0, class_weight=None,\n",
       "                       criterion='entropy', max_depth=None, max_features='auto',\n",
       "                       max_leaf_nodes=None, max_samples=None,\n",
       "                       min_impurity_decrease=0.0, min_impurity_split=None,\n",
       "                       min_samples_leaf=1, min_samples_split=2,\n",
       "                       min_weight_fraction_leaf=0.0, n_estimators=100,\n",
       "                       n_jobs=None, oob_score=False, random_state=None,\n",
       "                       verbose=0, warm_start=False)"
      ]
     },
     "execution_count": 169,
     "metadata": {},
     "output_type": "execute_result"
    }
   ],
   "source": [
    "#Fitting Decision Tree classifier to the training set  \n",
    "from sklearn.ensemble import RandomForestClassifier  \n",
    "classifier= RandomForestClassifier(n_estimators= 100, criterion=\"entropy\")  \n",
    "classifier.fit(x_train, y_train) "
   ]
  },
  {
   "cell_type": "code",
   "execution_count": 170,
   "metadata": {},
   "outputs": [],
   "source": [
    "#n_estimators= The required number of trees in the Random Forest\n",
    "#criterion= It is a function to analyze the accuracy of the split. Here we have taken \"entropy\" for the information gain."
   ]
  },
  {
   "cell_type": "markdown",
   "metadata": {},
   "source": [
    "# Model 1: Logistic Regression"
   ]
  },
  {
   "cell_type": "code",
   "execution_count": 171,
   "metadata": {},
   "outputs": [
    {
     "name": "stdout",
     "output_type": "stream",
     "text": [
      "              precision    recall  f1-score   support\n",
      "\n",
      "           1       0.89      0.83      0.86        30\n",
      "           2       0.81      0.88      0.84        24\n",
      "\n",
      "    accuracy                           0.85        54\n",
      "   macro avg       0.85      0.85      0.85        54\n",
      "weighted avg       0.86      0.85      0.85        54\n",
      "\n",
      "The Accuracy Score of Logistic Regression Algorithm is: 85.19%\n"
     ]
    }
   ],
   "source": [
    "#Model 1: Logistic Regression\n",
    "from sklearn.metrics import classification_report \n",
    "from sklearn.linear_model import LogisticRegression\n",
    "\n",
    "model1 = LogisticRegression(random_state=1) # get instance of model\n",
    "model1.fit(x_train, y_train) # Train/Fit model \n",
    "\n",
    "y_pred1 = model1.predict(x_test) # get y predictions\n",
    "print(classification_report(y_test, y_pred1)) # output accuracy\n",
    "print(f\"The Accuracy Score of Logistic Regression Algorithm is: {accuracy_score(y_test, y_pred1) * 100:.2f}%\")"
   ]
  },
  {
   "cell_type": "markdown",
   "metadata": {},
   "source": [
    "# Model 2: K-NN (K-Nearest Neighbors)"
   ]
  },
  {
   "cell_type": "code",
   "execution_count": 114,
   "metadata": {},
   "outputs": [
    {
     "name": "stdout",
     "output_type": "stream",
     "text": [
      "              precision    recall  f1-score   support\n",
      "\n",
      "           1       0.81      0.83      0.82        30\n",
      "           2       0.78      0.75      0.77        24\n",
      "\n",
      "    accuracy                           0.80        54\n",
      "   macro avg       0.79      0.79      0.79        54\n",
      "weighted avg       0.80      0.80      0.80        54\n",
      "\n",
      "The Accuracy Score of K-NN (K-Nearest Neighbors) is: 79.63%\n"
     ]
    }
   ],
   "source": [
    "#Model 2: K-NN (K-Nearest Neighbors)\n",
    "from sklearn.metrics import classification_report \n",
    "from sklearn.neighbors import KNeighborsClassifier\n",
    "\n",
    "model2 = KNeighborsClassifier() # get instance of model\n",
    "model2.fit(x_train, y_train) # Train/Fit model \n",
    "\n",
    "y_pred2 = model2.predict(x_test) # get y predictions\n",
    "print(classification_report(y_test, y_pred2)) # output accuracy\n",
    "print(f\"The Accuracy Score of K-NN (K-Nearest Neighbors) is: {accuracy_score(y_test, y_pred2) * 100:.2f}%\")"
   ]
  },
  {
   "cell_type": "markdown",
   "metadata": {},
   "source": [
    "# Model 3: SVM (Support Vector Machine)"
   ]
  },
  {
   "cell_type": "code",
   "execution_count": 115,
   "metadata": {},
   "outputs": [
    {
     "name": "stdout",
     "output_type": "stream",
     "text": [
      "              precision    recall  f1-score   support\n",
      "\n",
      "           1       0.89      0.80      0.84        30\n",
      "           2       0.78      0.88      0.82        24\n",
      "\n",
      "    accuracy                           0.83        54\n",
      "   macro avg       0.83      0.84      0.83        54\n",
      "weighted avg       0.84      0.83      0.83        54\n",
      "\n",
      "The Accuracy Score of SVM (Support Vector Machine) is: 83.33%\n"
     ]
    }
   ],
   "source": [
    "#Model 3: SVM (Support Vector Machine)\n",
    "from sklearn.metrics import classification_report \n",
    "from sklearn.svm import SVC\n",
    "\n",
    "model3 = SVC(random_state=1) # get instance of model\n",
    "model3.fit(x_train, y_train) # Train/Fit model \n",
    "\n",
    "y_pred3 = model3.predict(x_test) # get y predictions\n",
    "print(classification_report(y_test, y_pred3)) # output accuracy\n",
    "print(f\"The Accuracy Score of SVM (Support Vector Machine) is: {accuracy_score(y_test, y_pred3) * 100:.2f}%\")"
   ]
  },
  {
   "cell_type": "markdown",
   "metadata": {},
   "source": [
    "# Model 4: Naives Bayes Classifier"
   ]
  },
  {
   "cell_type": "code",
   "execution_count": 116,
   "metadata": {},
   "outputs": [
    {
     "name": "stdout",
     "output_type": "stream",
     "text": [
      "              precision    recall  f1-score   support\n",
      "\n",
      "           1       0.80      0.80      0.80        30\n",
      "           2       0.75      0.75      0.75        24\n",
      "\n",
      "    accuracy                           0.78        54\n",
      "   macro avg       0.78      0.78      0.78        54\n",
      "weighted avg       0.78      0.78      0.78        54\n",
      "\n",
      "The Accuracy Score of Naives Bayes Classifier is: 83.33%\n"
     ]
    }
   ],
   "source": [
    "#Model 4: Naives Bayes Classifier\n",
    "from sklearn.metrics import classification_report \n",
    "from sklearn.naive_bayes import GaussianNB\n",
    "\n",
    "model4 = GaussianNB() # get instance of model\n",
    "model4.fit(x_train, y_train) # Train/Fit model \n",
    "\n",
    "y_pred4 = model4.predict(x_test) # get y predictions\n",
    "print(classification_report(y_test, y_pred4)) # output accuracy\n",
    "print(f\"The Accuracy Score of Naives Bayes Classifier is: {accuracy_score(y_test, y_pred3) * 100:.2f}%\")"
   ]
  },
  {
   "cell_type": "markdown",
   "metadata": {},
   "source": [
    "# Model 5 : RandomForestClassifier"
   ]
  },
  {
   "cell_type": "code",
   "execution_count": 117,
   "metadata": {},
   "outputs": [
    {
     "name": "stdout",
     "output_type": "stream",
     "text": [
      "              precision    recall  f1-score   support\n",
      "\n",
      "           1       0.80      0.80      0.80        30\n",
      "           2       0.75      0.75      0.75        24\n",
      "\n",
      "    accuracy                           0.78        54\n",
      "   macro avg       0.78      0.78      0.78        54\n",
      "weighted avg       0.78      0.78      0.78        54\n",
      "\n",
      "The Accuracy Score of RandomForestClassifier is: 77.78%\n"
     ]
    }
   ],
   "source": [
    "from sklearn.metrics import classification_report \n",
    "from sklearn.ensemble import RandomForestClassifier\n",
    "\n",
    "model5 = RandomForestClassifier(random_state=1)# get instance of model\n",
    "model5.fit(x_train, y_train) # Train/Fit model \n",
    "\n",
    "y_pred5 = model4.predict(x_test) # get y predictions\n",
    "print(classification_report(y_test, y_pred5)) # output accuracy\n",
    "print(f\"The Accuracy Score of RandomForestClassifier is: {accuracy_score(y_test, y_pred5) * 100:.2f}%\")"
   ]
  },
  {
   "cell_type": "markdown",
   "metadata": {},
   "source": [
    "# Model 6: Decision Trees"
   ]
  },
  {
   "cell_type": "code",
   "execution_count": 118,
   "metadata": {},
   "outputs": [
    {
     "name": "stdout",
     "output_type": "stream",
     "text": [
      "              precision    recall  f1-score   support\n",
      "\n",
      "           1       0.86      0.80      0.83        30\n",
      "           2       0.77      0.83      0.80        24\n",
      "\n",
      "    accuracy                           0.81        54\n",
      "   macro avg       0.81      0.82      0.81        54\n",
      "weighted avg       0.82      0.81      0.82        54\n",
      "\n",
      "The Accuracy Score of Decision Trees is: 81.48%\n"
     ]
    }
   ],
   "source": [
    "#Model 6: Decision Trees\n",
    "from sklearn.metrics import classification_report \n",
    "from sklearn.tree import DecisionTreeClassifier\n",
    "\n",
    "model6 = DecisionTreeClassifier(random_state=1) # get instance of model\n",
    "model6.fit(x_train, y_train) # Train/Fit model \n",
    "\n",
    "y_pred6 = model5.predict(x_test) # get y predictions\n",
    "print(classification_report(y_test, y_pred6)) # output accuracy\n",
    "print(f\"The Accuracy Score of Decision Trees is: {accuracy_score(y_test, y_pred6) * 100:.2f}%\")"
   ]
  },
  {
   "cell_type": "raw",
   "metadata": {},
   "source": [
    "Note: A good thumb rule is that any accuracy above 70% is considered good, but be careful because if your accuracy is extremely high, it may be too good to be true (an example of Over fitting). Thus, 81% is the ideal accuracy! Hence ,We have used Random Forest Algorithm which gives us an accuracy which is neither too high nor too low."
   ]
  },
  {
   "cell_type": "markdown",
   "metadata": {},
   "source": [
    "## 6.4.  Predicting the Test Set result:\n",
    "Since random forest model is fitted to the training set, so now we can predict the test result. For prediction, we will create a new prediction vector y_pred."
   ]
  },
  {
   "cell_type": "code",
   "execution_count": 119,
   "metadata": {},
   "outputs": [
    {
     "data": {
      "text/html": [
       "<style  type=\"text/css\" >\n",
       "    #T_8e5d9024_9c49_11eb_bc26_a0afbdd3367c  {\n",
       "          border: 2px solid ;\n",
       "    }</style><table id=\"T_8e5d9024_9c49_11eb_bc26_a0afbdd3367c\" ><thead>    <tr>        <th class=\"blank level0\" ></th>        <th class=\"col_heading level0 col0\" >Predicted</th>    </tr></thead><tbody>\n",
       "                <tr>\n",
       "                        <th id=\"T_8e5d9024_9c49_11eb_bc26_a0afbdd3367clevel0_row0\" class=\"row_heading level0 row0\" >0</th>\n",
       "                        <td id=\"T_8e5d9024_9c49_11eb_bc26_a0afbdd3367crow0_col0\" class=\"data row0 col0\" >1</td>\n",
       "            </tr>\n",
       "            <tr>\n",
       "                        <th id=\"T_8e5d9024_9c49_11eb_bc26_a0afbdd3367clevel0_row1\" class=\"row_heading level0 row1\" >1</th>\n",
       "                        <td id=\"T_8e5d9024_9c49_11eb_bc26_a0afbdd3367crow1_col0\" class=\"data row1 col0\" >1</td>\n",
       "            </tr>\n",
       "            <tr>\n",
       "                        <th id=\"T_8e5d9024_9c49_11eb_bc26_a0afbdd3367clevel0_row2\" class=\"row_heading level0 row2\" >2</th>\n",
       "                        <td id=\"T_8e5d9024_9c49_11eb_bc26_a0afbdd3367crow2_col0\" class=\"data row2 col0\" >1</td>\n",
       "            </tr>\n",
       "            <tr>\n",
       "                        <th id=\"T_8e5d9024_9c49_11eb_bc26_a0afbdd3367clevel0_row3\" class=\"row_heading level0 row3\" >3</th>\n",
       "                        <td id=\"T_8e5d9024_9c49_11eb_bc26_a0afbdd3367crow3_col0\" class=\"data row3 col0\" >2</td>\n",
       "            </tr>\n",
       "            <tr>\n",
       "                        <th id=\"T_8e5d9024_9c49_11eb_bc26_a0afbdd3367clevel0_row4\" class=\"row_heading level0 row4\" >4</th>\n",
       "                        <td id=\"T_8e5d9024_9c49_11eb_bc26_a0afbdd3367crow4_col0\" class=\"data row4 col0\" >1</td>\n",
       "            </tr>\n",
       "            <tr>\n",
       "                        <th id=\"T_8e5d9024_9c49_11eb_bc26_a0afbdd3367clevel0_row5\" class=\"row_heading level0 row5\" >5</th>\n",
       "                        <td id=\"T_8e5d9024_9c49_11eb_bc26_a0afbdd3367crow5_col0\" class=\"data row5 col0\" >1</td>\n",
       "            </tr>\n",
       "            <tr>\n",
       "                        <th id=\"T_8e5d9024_9c49_11eb_bc26_a0afbdd3367clevel0_row6\" class=\"row_heading level0 row6\" >6</th>\n",
       "                        <td id=\"T_8e5d9024_9c49_11eb_bc26_a0afbdd3367crow6_col0\" class=\"data row6 col0\" >2</td>\n",
       "            </tr>\n",
       "            <tr>\n",
       "                        <th id=\"T_8e5d9024_9c49_11eb_bc26_a0afbdd3367clevel0_row7\" class=\"row_heading level0 row7\" >7</th>\n",
       "                        <td id=\"T_8e5d9024_9c49_11eb_bc26_a0afbdd3367crow7_col0\" class=\"data row7 col0\" >1</td>\n",
       "            </tr>\n",
       "            <tr>\n",
       "                        <th id=\"T_8e5d9024_9c49_11eb_bc26_a0afbdd3367clevel0_row8\" class=\"row_heading level0 row8\" >8</th>\n",
       "                        <td id=\"T_8e5d9024_9c49_11eb_bc26_a0afbdd3367crow8_col0\" class=\"data row8 col0\" >2</td>\n",
       "            </tr>\n",
       "            <tr>\n",
       "                        <th id=\"T_8e5d9024_9c49_11eb_bc26_a0afbdd3367clevel0_row9\" class=\"row_heading level0 row9\" >9</th>\n",
       "                        <td id=\"T_8e5d9024_9c49_11eb_bc26_a0afbdd3367crow9_col0\" class=\"data row9 col0\" >2</td>\n",
       "            </tr>\n",
       "            <tr>\n",
       "                        <th id=\"T_8e5d9024_9c49_11eb_bc26_a0afbdd3367clevel0_row10\" class=\"row_heading level0 row10\" >10</th>\n",
       "                        <td id=\"T_8e5d9024_9c49_11eb_bc26_a0afbdd3367crow10_col0\" class=\"data row10 col0\" >2</td>\n",
       "            </tr>\n",
       "            <tr>\n",
       "                        <th id=\"T_8e5d9024_9c49_11eb_bc26_a0afbdd3367clevel0_row11\" class=\"row_heading level0 row11\" >11</th>\n",
       "                        <td id=\"T_8e5d9024_9c49_11eb_bc26_a0afbdd3367crow11_col0\" class=\"data row11 col0\" >2</td>\n",
       "            </tr>\n",
       "            <tr>\n",
       "                        <th id=\"T_8e5d9024_9c49_11eb_bc26_a0afbdd3367clevel0_row12\" class=\"row_heading level0 row12\" >12</th>\n",
       "                        <td id=\"T_8e5d9024_9c49_11eb_bc26_a0afbdd3367crow12_col0\" class=\"data row12 col0\" >2</td>\n",
       "            </tr>\n",
       "            <tr>\n",
       "                        <th id=\"T_8e5d9024_9c49_11eb_bc26_a0afbdd3367clevel0_row13\" class=\"row_heading level0 row13\" >13</th>\n",
       "                        <td id=\"T_8e5d9024_9c49_11eb_bc26_a0afbdd3367crow13_col0\" class=\"data row13 col0\" >1</td>\n",
       "            </tr>\n",
       "            <tr>\n",
       "                        <th id=\"T_8e5d9024_9c49_11eb_bc26_a0afbdd3367clevel0_row14\" class=\"row_heading level0 row14\" >14</th>\n",
       "                        <td id=\"T_8e5d9024_9c49_11eb_bc26_a0afbdd3367crow14_col0\" class=\"data row14 col0\" >1</td>\n",
       "            </tr>\n",
       "            <tr>\n",
       "                        <th id=\"T_8e5d9024_9c49_11eb_bc26_a0afbdd3367clevel0_row15\" class=\"row_heading level0 row15\" >15</th>\n",
       "                        <td id=\"T_8e5d9024_9c49_11eb_bc26_a0afbdd3367crow15_col0\" class=\"data row15 col0\" >1</td>\n",
       "            </tr>\n",
       "            <tr>\n",
       "                        <th id=\"T_8e5d9024_9c49_11eb_bc26_a0afbdd3367clevel0_row16\" class=\"row_heading level0 row16\" >16</th>\n",
       "                        <td id=\"T_8e5d9024_9c49_11eb_bc26_a0afbdd3367crow16_col0\" class=\"data row16 col0\" >1</td>\n",
       "            </tr>\n",
       "            <tr>\n",
       "                        <th id=\"T_8e5d9024_9c49_11eb_bc26_a0afbdd3367clevel0_row17\" class=\"row_heading level0 row17\" >17</th>\n",
       "                        <td id=\"T_8e5d9024_9c49_11eb_bc26_a0afbdd3367crow17_col0\" class=\"data row17 col0\" >2</td>\n",
       "            </tr>\n",
       "            <tr>\n",
       "                        <th id=\"T_8e5d9024_9c49_11eb_bc26_a0afbdd3367clevel0_row18\" class=\"row_heading level0 row18\" >18</th>\n",
       "                        <td id=\"T_8e5d9024_9c49_11eb_bc26_a0afbdd3367crow18_col0\" class=\"data row18 col0\" >2</td>\n",
       "            </tr>\n",
       "            <tr>\n",
       "                        <th id=\"T_8e5d9024_9c49_11eb_bc26_a0afbdd3367clevel0_row19\" class=\"row_heading level0 row19\" >19</th>\n",
       "                        <td id=\"T_8e5d9024_9c49_11eb_bc26_a0afbdd3367crow19_col0\" class=\"data row19 col0\" >2</td>\n",
       "            </tr>\n",
       "            <tr>\n",
       "                        <th id=\"T_8e5d9024_9c49_11eb_bc26_a0afbdd3367clevel0_row20\" class=\"row_heading level0 row20\" >20</th>\n",
       "                        <td id=\"T_8e5d9024_9c49_11eb_bc26_a0afbdd3367crow20_col0\" class=\"data row20 col0\" >2</td>\n",
       "            </tr>\n",
       "            <tr>\n",
       "                        <th id=\"T_8e5d9024_9c49_11eb_bc26_a0afbdd3367clevel0_row21\" class=\"row_heading level0 row21\" >21</th>\n",
       "                        <td id=\"T_8e5d9024_9c49_11eb_bc26_a0afbdd3367crow21_col0\" class=\"data row21 col0\" >1</td>\n",
       "            </tr>\n",
       "            <tr>\n",
       "                        <th id=\"T_8e5d9024_9c49_11eb_bc26_a0afbdd3367clevel0_row22\" class=\"row_heading level0 row22\" >22</th>\n",
       "                        <td id=\"T_8e5d9024_9c49_11eb_bc26_a0afbdd3367crow22_col0\" class=\"data row22 col0\" >2</td>\n",
       "            </tr>\n",
       "            <tr>\n",
       "                        <th id=\"T_8e5d9024_9c49_11eb_bc26_a0afbdd3367clevel0_row23\" class=\"row_heading level0 row23\" >23</th>\n",
       "                        <td id=\"T_8e5d9024_9c49_11eb_bc26_a0afbdd3367crow23_col0\" class=\"data row23 col0\" >1</td>\n",
       "            </tr>\n",
       "            <tr>\n",
       "                        <th id=\"T_8e5d9024_9c49_11eb_bc26_a0afbdd3367clevel0_row24\" class=\"row_heading level0 row24\" >24</th>\n",
       "                        <td id=\"T_8e5d9024_9c49_11eb_bc26_a0afbdd3367crow24_col0\" class=\"data row24 col0\" >1</td>\n",
       "            </tr>\n",
       "            <tr>\n",
       "                        <th id=\"T_8e5d9024_9c49_11eb_bc26_a0afbdd3367clevel0_row25\" class=\"row_heading level0 row25\" >25</th>\n",
       "                        <td id=\"T_8e5d9024_9c49_11eb_bc26_a0afbdd3367crow25_col0\" class=\"data row25 col0\" >2</td>\n",
       "            </tr>\n",
       "            <tr>\n",
       "                        <th id=\"T_8e5d9024_9c49_11eb_bc26_a0afbdd3367clevel0_row26\" class=\"row_heading level0 row26\" >26</th>\n",
       "                        <td id=\"T_8e5d9024_9c49_11eb_bc26_a0afbdd3367crow26_col0\" class=\"data row26 col0\" >2</td>\n",
       "            </tr>\n",
       "            <tr>\n",
       "                        <th id=\"T_8e5d9024_9c49_11eb_bc26_a0afbdd3367clevel0_row27\" class=\"row_heading level0 row27\" >27</th>\n",
       "                        <td id=\"T_8e5d9024_9c49_11eb_bc26_a0afbdd3367crow27_col0\" class=\"data row27 col0\" >2</td>\n",
       "            </tr>\n",
       "            <tr>\n",
       "                        <th id=\"T_8e5d9024_9c49_11eb_bc26_a0afbdd3367clevel0_row28\" class=\"row_heading level0 row28\" >28</th>\n",
       "                        <td id=\"T_8e5d9024_9c49_11eb_bc26_a0afbdd3367crow28_col0\" class=\"data row28 col0\" >2</td>\n",
       "            </tr>\n",
       "            <tr>\n",
       "                        <th id=\"T_8e5d9024_9c49_11eb_bc26_a0afbdd3367clevel0_row29\" class=\"row_heading level0 row29\" >29</th>\n",
       "                        <td id=\"T_8e5d9024_9c49_11eb_bc26_a0afbdd3367crow29_col0\" class=\"data row29 col0\" >1</td>\n",
       "            </tr>\n",
       "            <tr>\n",
       "                        <th id=\"T_8e5d9024_9c49_11eb_bc26_a0afbdd3367clevel0_row30\" class=\"row_heading level0 row30\" >30</th>\n",
       "                        <td id=\"T_8e5d9024_9c49_11eb_bc26_a0afbdd3367crow30_col0\" class=\"data row30 col0\" >1</td>\n",
       "            </tr>\n",
       "            <tr>\n",
       "                        <th id=\"T_8e5d9024_9c49_11eb_bc26_a0afbdd3367clevel0_row31\" class=\"row_heading level0 row31\" >31</th>\n",
       "                        <td id=\"T_8e5d9024_9c49_11eb_bc26_a0afbdd3367crow31_col0\" class=\"data row31 col0\" >1</td>\n",
       "            </tr>\n",
       "            <tr>\n",
       "                        <th id=\"T_8e5d9024_9c49_11eb_bc26_a0afbdd3367clevel0_row32\" class=\"row_heading level0 row32\" >32</th>\n",
       "                        <td id=\"T_8e5d9024_9c49_11eb_bc26_a0afbdd3367crow32_col0\" class=\"data row32 col0\" >1</td>\n",
       "            </tr>\n",
       "            <tr>\n",
       "                        <th id=\"T_8e5d9024_9c49_11eb_bc26_a0afbdd3367clevel0_row33\" class=\"row_heading level0 row33\" >33</th>\n",
       "                        <td id=\"T_8e5d9024_9c49_11eb_bc26_a0afbdd3367crow33_col0\" class=\"data row33 col0\" >2</td>\n",
       "            </tr>\n",
       "            <tr>\n",
       "                        <th id=\"T_8e5d9024_9c49_11eb_bc26_a0afbdd3367clevel0_row34\" class=\"row_heading level0 row34\" >34</th>\n",
       "                        <td id=\"T_8e5d9024_9c49_11eb_bc26_a0afbdd3367crow34_col0\" class=\"data row34 col0\" >1</td>\n",
       "            </tr>\n",
       "            <tr>\n",
       "                        <th id=\"T_8e5d9024_9c49_11eb_bc26_a0afbdd3367clevel0_row35\" class=\"row_heading level0 row35\" >35</th>\n",
       "                        <td id=\"T_8e5d9024_9c49_11eb_bc26_a0afbdd3367crow35_col0\" class=\"data row35 col0\" >1</td>\n",
       "            </tr>\n",
       "            <tr>\n",
       "                        <th id=\"T_8e5d9024_9c49_11eb_bc26_a0afbdd3367clevel0_row36\" class=\"row_heading level0 row36\" >36</th>\n",
       "                        <td id=\"T_8e5d9024_9c49_11eb_bc26_a0afbdd3367crow36_col0\" class=\"data row36 col0\" >1</td>\n",
       "            </tr>\n",
       "            <tr>\n",
       "                        <th id=\"T_8e5d9024_9c49_11eb_bc26_a0afbdd3367clevel0_row37\" class=\"row_heading level0 row37\" >37</th>\n",
       "                        <td id=\"T_8e5d9024_9c49_11eb_bc26_a0afbdd3367crow37_col0\" class=\"data row37 col0\" >1</td>\n",
       "            </tr>\n",
       "            <tr>\n",
       "                        <th id=\"T_8e5d9024_9c49_11eb_bc26_a0afbdd3367clevel0_row38\" class=\"row_heading level0 row38\" >38</th>\n",
       "                        <td id=\"T_8e5d9024_9c49_11eb_bc26_a0afbdd3367crow38_col0\" class=\"data row38 col0\" >2</td>\n",
       "            </tr>\n",
       "            <tr>\n",
       "                        <th id=\"T_8e5d9024_9c49_11eb_bc26_a0afbdd3367clevel0_row39\" class=\"row_heading level0 row39\" >39</th>\n",
       "                        <td id=\"T_8e5d9024_9c49_11eb_bc26_a0afbdd3367crow39_col0\" class=\"data row39 col0\" >1</td>\n",
       "            </tr>\n",
       "            <tr>\n",
       "                        <th id=\"T_8e5d9024_9c49_11eb_bc26_a0afbdd3367clevel0_row40\" class=\"row_heading level0 row40\" >40</th>\n",
       "                        <td id=\"T_8e5d9024_9c49_11eb_bc26_a0afbdd3367crow40_col0\" class=\"data row40 col0\" >2</td>\n",
       "            </tr>\n",
       "            <tr>\n",
       "                        <th id=\"T_8e5d9024_9c49_11eb_bc26_a0afbdd3367clevel0_row41\" class=\"row_heading level0 row41\" >41</th>\n",
       "                        <td id=\"T_8e5d9024_9c49_11eb_bc26_a0afbdd3367crow41_col0\" class=\"data row41 col0\" >1</td>\n",
       "            </tr>\n",
       "            <tr>\n",
       "                        <th id=\"T_8e5d9024_9c49_11eb_bc26_a0afbdd3367clevel0_row42\" class=\"row_heading level0 row42\" >42</th>\n",
       "                        <td id=\"T_8e5d9024_9c49_11eb_bc26_a0afbdd3367crow42_col0\" class=\"data row42 col0\" >2</td>\n",
       "            </tr>\n",
       "            <tr>\n",
       "                        <th id=\"T_8e5d9024_9c49_11eb_bc26_a0afbdd3367clevel0_row43\" class=\"row_heading level0 row43\" >43</th>\n",
       "                        <td id=\"T_8e5d9024_9c49_11eb_bc26_a0afbdd3367crow43_col0\" class=\"data row43 col0\" >2</td>\n",
       "            </tr>\n",
       "            <tr>\n",
       "                        <th id=\"T_8e5d9024_9c49_11eb_bc26_a0afbdd3367clevel0_row44\" class=\"row_heading level0 row44\" >44</th>\n",
       "                        <td id=\"T_8e5d9024_9c49_11eb_bc26_a0afbdd3367crow44_col0\" class=\"data row44 col0\" >2</td>\n",
       "            </tr>\n",
       "            <tr>\n",
       "                        <th id=\"T_8e5d9024_9c49_11eb_bc26_a0afbdd3367clevel0_row45\" class=\"row_heading level0 row45\" >45</th>\n",
       "                        <td id=\"T_8e5d9024_9c49_11eb_bc26_a0afbdd3367crow45_col0\" class=\"data row45 col0\" >1</td>\n",
       "            </tr>\n",
       "            <tr>\n",
       "                        <th id=\"T_8e5d9024_9c49_11eb_bc26_a0afbdd3367clevel0_row46\" class=\"row_heading level0 row46\" >46</th>\n",
       "                        <td id=\"T_8e5d9024_9c49_11eb_bc26_a0afbdd3367crow46_col0\" class=\"data row46 col0\" >2</td>\n",
       "            </tr>\n",
       "            <tr>\n",
       "                        <th id=\"T_8e5d9024_9c49_11eb_bc26_a0afbdd3367clevel0_row47\" class=\"row_heading level0 row47\" >47</th>\n",
       "                        <td id=\"T_8e5d9024_9c49_11eb_bc26_a0afbdd3367crow47_col0\" class=\"data row47 col0\" >1</td>\n",
       "            </tr>\n",
       "            <tr>\n",
       "                        <th id=\"T_8e5d9024_9c49_11eb_bc26_a0afbdd3367clevel0_row48\" class=\"row_heading level0 row48\" >48</th>\n",
       "                        <td id=\"T_8e5d9024_9c49_11eb_bc26_a0afbdd3367crow48_col0\" class=\"data row48 col0\" >1</td>\n",
       "            </tr>\n",
       "            <tr>\n",
       "                        <th id=\"T_8e5d9024_9c49_11eb_bc26_a0afbdd3367clevel0_row49\" class=\"row_heading level0 row49\" >49</th>\n",
       "                        <td id=\"T_8e5d9024_9c49_11eb_bc26_a0afbdd3367crow49_col0\" class=\"data row49 col0\" >1</td>\n",
       "            </tr>\n",
       "            <tr>\n",
       "                        <th id=\"T_8e5d9024_9c49_11eb_bc26_a0afbdd3367clevel0_row50\" class=\"row_heading level0 row50\" >50</th>\n",
       "                        <td id=\"T_8e5d9024_9c49_11eb_bc26_a0afbdd3367crow50_col0\" class=\"data row50 col0\" >2</td>\n",
       "            </tr>\n",
       "            <tr>\n",
       "                        <th id=\"T_8e5d9024_9c49_11eb_bc26_a0afbdd3367clevel0_row51\" class=\"row_heading level0 row51\" >51</th>\n",
       "                        <td id=\"T_8e5d9024_9c49_11eb_bc26_a0afbdd3367crow51_col0\" class=\"data row51 col0\" >2</td>\n",
       "            </tr>\n",
       "            <tr>\n",
       "                        <th id=\"T_8e5d9024_9c49_11eb_bc26_a0afbdd3367clevel0_row52\" class=\"row_heading level0 row52\" >52</th>\n",
       "                        <td id=\"T_8e5d9024_9c49_11eb_bc26_a0afbdd3367crow52_col0\" class=\"data row52 col0\" >1</td>\n",
       "            </tr>\n",
       "            <tr>\n",
       "                        <th id=\"T_8e5d9024_9c49_11eb_bc26_a0afbdd3367clevel0_row53\" class=\"row_heading level0 row53\" >53</th>\n",
       "                        <td id=\"T_8e5d9024_9c49_11eb_bc26_a0afbdd3367crow53_col0\" class=\"data row53 col0\" >2</td>\n",
       "            </tr>\n",
       "    </tbody></table>"
      ],
      "text/plain": [
       "<pandas.io.formats.style.Styler at 0x2b7db94bb88>"
      ]
     },
     "execution_count": 119,
     "metadata": {},
     "output_type": "execute_result"
    }
   ],
   "source": [
    "#Predicting the test set result  \n",
    "y_pred= model5.predict(x_test) \n",
    "y_pred2= model5.predict(x_test) #copied\n",
    "y_pred2= pd.DataFrame(data = y_pred, columns= ['Predicted'])\n",
    "y_pred2.style.set_table_styles([{'selector' : '', \n",
    "                            'props' : [('border', \n",
    "                                        '2px solid ')]}]) \n"
   ]
  },
  {
   "cell_type": "code",
   "execution_count": 120,
   "metadata": {},
   "outputs": [
    {
     "data": {
      "text/html": [
       "<style  type=\"text/css\" >\n",
       "    #T_8e83120a_9c49_11eb_a012_a0afbdd3367c  {\n",
       "          border: 2px solid ;\n",
       "    }</style><table id=\"T_8e83120a_9c49_11eb_a012_a0afbdd3367c\" ><thead>    <tr>        <th class=\"blank level0\" ></th>        <th class=\"col_heading level0 col0\" >Actual</th>        <th class=\"col_heading level0 col1\" >Predicted</th>    </tr></thead><tbody>\n",
       "                <tr>\n",
       "                        <th id=\"T_8e83120a_9c49_11eb_a012_a0afbdd3367clevel0_row0\" class=\"row_heading level0 row0\" >260</th>\n",
       "                        <td id=\"T_8e83120a_9c49_11eb_a012_a0afbdd3367crow0_col0\" class=\"data row0 col0\" >1</td>\n",
       "                        <td id=\"T_8e83120a_9c49_11eb_a012_a0afbdd3367crow0_col1\" class=\"data row0 col1\" >1</td>\n",
       "            </tr>\n",
       "            <tr>\n",
       "                        <th id=\"T_8e83120a_9c49_11eb_a012_a0afbdd3367clevel0_row1\" class=\"row_heading level0 row1\" >194</th>\n",
       "                        <td id=\"T_8e83120a_9c49_11eb_a012_a0afbdd3367crow1_col0\" class=\"data row1 col0\" >1</td>\n",
       "                        <td id=\"T_8e83120a_9c49_11eb_a012_a0afbdd3367crow1_col1\" class=\"data row1 col1\" >1</td>\n",
       "            </tr>\n",
       "            <tr>\n",
       "                        <th id=\"T_8e83120a_9c49_11eb_a012_a0afbdd3367clevel0_row2\" class=\"row_heading level0 row2\" >112</th>\n",
       "                        <td id=\"T_8e83120a_9c49_11eb_a012_a0afbdd3367crow2_col0\" class=\"data row2 col0\" >2</td>\n",
       "                        <td id=\"T_8e83120a_9c49_11eb_a012_a0afbdd3367crow2_col1\" class=\"data row2 col1\" >1</td>\n",
       "            </tr>\n",
       "            <tr>\n",
       "                        <th id=\"T_8e83120a_9c49_11eb_a012_a0afbdd3367clevel0_row3\" class=\"row_heading level0 row3\" >14</th>\n",
       "                        <td id=\"T_8e83120a_9c49_11eb_a012_a0afbdd3367crow3_col0\" class=\"data row3 col0\" >1</td>\n",
       "                        <td id=\"T_8e83120a_9c49_11eb_a012_a0afbdd3367crow3_col1\" class=\"data row3 col1\" >2</td>\n",
       "            </tr>\n",
       "            <tr>\n",
       "                        <th id=\"T_8e83120a_9c49_11eb_a012_a0afbdd3367clevel0_row4\" class=\"row_heading level0 row4\" >206</th>\n",
       "                        <td id=\"T_8e83120a_9c49_11eb_a012_a0afbdd3367crow4_col0\" class=\"data row4 col0\" >1</td>\n",
       "                        <td id=\"T_8e83120a_9c49_11eb_a012_a0afbdd3367crow4_col1\" class=\"data row4 col1\" >1</td>\n",
       "            </tr>\n",
       "            <tr>\n",
       "                        <th id=\"T_8e83120a_9c49_11eb_a012_a0afbdd3367clevel0_row5\" class=\"row_heading level0 row5\" >15</th>\n",
       "                        <td id=\"T_8e83120a_9c49_11eb_a012_a0afbdd3367crow5_col0\" class=\"data row5 col0\" >1</td>\n",
       "                        <td id=\"T_8e83120a_9c49_11eb_a012_a0afbdd3367crow5_col1\" class=\"data row5 col1\" >1</td>\n",
       "            </tr>\n",
       "            <tr>\n",
       "                        <th id=\"T_8e83120a_9c49_11eb_a012_a0afbdd3367clevel0_row6\" class=\"row_heading level0 row6\" >172</th>\n",
       "                        <td id=\"T_8e83120a_9c49_11eb_a012_a0afbdd3367crow6_col0\" class=\"data row6 col0\" >2</td>\n",
       "                        <td id=\"T_8e83120a_9c49_11eb_a012_a0afbdd3367crow6_col1\" class=\"data row6 col1\" >2</td>\n",
       "            </tr>\n",
       "            <tr>\n",
       "                        <th id=\"T_8e83120a_9c49_11eb_a012_a0afbdd3367clevel0_row7\" class=\"row_heading level0 row7\" >157</th>\n",
       "                        <td id=\"T_8e83120a_9c49_11eb_a012_a0afbdd3367crow7_col0\" class=\"data row7 col0\" >1</td>\n",
       "                        <td id=\"T_8e83120a_9c49_11eb_a012_a0afbdd3367crow7_col1\" class=\"data row7 col1\" >1</td>\n",
       "            </tr>\n",
       "            <tr>\n",
       "                        <th id=\"T_8e83120a_9c49_11eb_a012_a0afbdd3367clevel0_row8\" class=\"row_heading level0 row8\" >120</th>\n",
       "                        <td id=\"T_8e83120a_9c49_11eb_a012_a0afbdd3367crow8_col0\" class=\"data row8 col0\" >2</td>\n",
       "                        <td id=\"T_8e83120a_9c49_11eb_a012_a0afbdd3367crow8_col1\" class=\"data row8 col1\" >2</td>\n",
       "            </tr>\n",
       "            <tr>\n",
       "                        <th id=\"T_8e83120a_9c49_11eb_a012_a0afbdd3367clevel0_row9\" class=\"row_heading level0 row9\" >231</th>\n",
       "                        <td id=\"T_8e83120a_9c49_11eb_a012_a0afbdd3367crow9_col0\" class=\"data row9 col0\" >2</td>\n",
       "                        <td id=\"T_8e83120a_9c49_11eb_a012_a0afbdd3367crow9_col1\" class=\"data row9 col1\" >2</td>\n",
       "            </tr>\n",
       "            <tr>\n",
       "                        <th id=\"T_8e83120a_9c49_11eb_a012_a0afbdd3367clevel0_row10\" class=\"row_heading level0 row10\" >64</th>\n",
       "                        <td id=\"T_8e83120a_9c49_11eb_a012_a0afbdd3367crow10_col0\" class=\"data row10 col0\" >1</td>\n",
       "                        <td id=\"T_8e83120a_9c49_11eb_a012_a0afbdd3367crow10_col1\" class=\"data row10 col1\" >2</td>\n",
       "            </tr>\n",
       "            <tr>\n",
       "                        <th id=\"T_8e83120a_9c49_11eb_a012_a0afbdd3367clevel0_row11\" class=\"row_heading level0 row11\" >11</th>\n",
       "                        <td id=\"T_8e83120a_9c49_11eb_a012_a0afbdd3367crow11_col0\" class=\"data row11 col0\" >1</td>\n",
       "                        <td id=\"T_8e83120a_9c49_11eb_a012_a0afbdd3367crow11_col1\" class=\"data row11 col1\" >2</td>\n",
       "            </tr>\n",
       "            <tr>\n",
       "                        <th id=\"T_8e83120a_9c49_11eb_a012_a0afbdd3367clevel0_row12\" class=\"row_heading level0 row12\" >142</th>\n",
       "                        <td id=\"T_8e83120a_9c49_11eb_a012_a0afbdd3367crow12_col0\" class=\"data row12 col0\" >2</td>\n",
       "                        <td id=\"T_8e83120a_9c49_11eb_a012_a0afbdd3367crow12_col1\" class=\"data row12 col1\" >2</td>\n",
       "            </tr>\n",
       "            <tr>\n",
       "                        <th id=\"T_8e83120a_9c49_11eb_a012_a0afbdd3367clevel0_row13\" class=\"row_heading level0 row13\" >217</th>\n",
       "                        <td id=\"T_8e83120a_9c49_11eb_a012_a0afbdd3367crow13_col0\" class=\"data row13 col0\" >1</td>\n",
       "                        <td id=\"T_8e83120a_9c49_11eb_a012_a0afbdd3367crow13_col1\" class=\"data row13 col1\" >1</td>\n",
       "            </tr>\n",
       "            <tr>\n",
       "                        <th id=\"T_8e83120a_9c49_11eb_a012_a0afbdd3367clevel0_row14\" class=\"row_heading level0 row14\" >102</th>\n",
       "                        <td id=\"T_8e83120a_9c49_11eb_a012_a0afbdd3367crow14_col0\" class=\"data row14 col0\" >1</td>\n",
       "                        <td id=\"T_8e83120a_9c49_11eb_a012_a0afbdd3367crow14_col1\" class=\"data row14 col1\" >1</td>\n",
       "            </tr>\n",
       "            <tr>\n",
       "                        <th id=\"T_8e83120a_9c49_11eb_a012_a0afbdd3367clevel0_row15\" class=\"row_heading level0 row15\" >51</th>\n",
       "                        <td id=\"T_8e83120a_9c49_11eb_a012_a0afbdd3367crow15_col0\" class=\"data row15 col0\" >1</td>\n",
       "                        <td id=\"T_8e83120a_9c49_11eb_a012_a0afbdd3367crow15_col1\" class=\"data row15 col1\" >1</td>\n",
       "            </tr>\n",
       "            <tr>\n",
       "                        <th id=\"T_8e83120a_9c49_11eb_a012_a0afbdd3367clevel0_row16\" class=\"row_heading level0 row16\" >214</th>\n",
       "                        <td id=\"T_8e83120a_9c49_11eb_a012_a0afbdd3367crow16_col0\" class=\"data row16 col0\" >1</td>\n",
       "                        <td id=\"T_8e83120a_9c49_11eb_a012_a0afbdd3367crow16_col1\" class=\"data row16 col1\" >1</td>\n",
       "            </tr>\n",
       "            <tr>\n",
       "                        <th id=\"T_8e83120a_9c49_11eb_a012_a0afbdd3367clevel0_row17\" class=\"row_heading level0 row17\" >44</th>\n",
       "                        <td id=\"T_8e83120a_9c49_11eb_a012_a0afbdd3367crow17_col0\" class=\"data row17 col0\" >2</td>\n",
       "                        <td id=\"T_8e83120a_9c49_11eb_a012_a0afbdd3367crow17_col1\" class=\"data row17 col1\" >2</td>\n",
       "            </tr>\n",
       "            <tr>\n",
       "                        <th id=\"T_8e83120a_9c49_11eb_a012_a0afbdd3367clevel0_row18\" class=\"row_heading level0 row18\" >221</th>\n",
       "                        <td id=\"T_8e83120a_9c49_11eb_a012_a0afbdd3367crow18_col0\" class=\"data row18 col0\" >2</td>\n",
       "                        <td id=\"T_8e83120a_9c49_11eb_a012_a0afbdd3367crow18_col1\" class=\"data row18 col1\" >2</td>\n",
       "            </tr>\n",
       "            <tr>\n",
       "                        <th id=\"T_8e83120a_9c49_11eb_a012_a0afbdd3367clevel0_row19\" class=\"row_heading level0 row19\" >56</th>\n",
       "                        <td id=\"T_8e83120a_9c49_11eb_a012_a0afbdd3367crow19_col0\" class=\"data row19 col0\" >2</td>\n",
       "                        <td id=\"T_8e83120a_9c49_11eb_a012_a0afbdd3367crow19_col1\" class=\"data row19 col1\" >2</td>\n",
       "            </tr>\n",
       "            <tr>\n",
       "                        <th id=\"T_8e83120a_9c49_11eb_a012_a0afbdd3367clevel0_row20\" class=\"row_heading level0 row20\" >89</th>\n",
       "                        <td id=\"T_8e83120a_9c49_11eb_a012_a0afbdd3367crow20_col0\" class=\"data row20 col0\" >2</td>\n",
       "                        <td id=\"T_8e83120a_9c49_11eb_a012_a0afbdd3367crow20_col1\" class=\"data row20 col1\" >2</td>\n",
       "            </tr>\n",
       "            <tr>\n",
       "                        <th id=\"T_8e83120a_9c49_11eb_a012_a0afbdd3367clevel0_row21\" class=\"row_heading level0 row21\" >77</th>\n",
       "                        <td id=\"T_8e83120a_9c49_11eb_a012_a0afbdd3367crow21_col0\" class=\"data row21 col0\" >1</td>\n",
       "                        <td id=\"T_8e83120a_9c49_11eb_a012_a0afbdd3367crow21_col1\" class=\"data row21 col1\" >1</td>\n",
       "            </tr>\n",
       "            <tr>\n",
       "                        <th id=\"T_8e83120a_9c49_11eb_a012_a0afbdd3367clevel0_row22\" class=\"row_heading level0 row22\" >50</th>\n",
       "                        <td id=\"T_8e83120a_9c49_11eb_a012_a0afbdd3367crow22_col0\" class=\"data row22 col0\" >2</td>\n",
       "                        <td id=\"T_8e83120a_9c49_11eb_a012_a0afbdd3367crow22_col1\" class=\"data row22 col1\" >2</td>\n",
       "            </tr>\n",
       "            <tr>\n",
       "                        <th id=\"T_8e83120a_9c49_11eb_a012_a0afbdd3367clevel0_row23\" class=\"row_heading level0 row23\" >232</th>\n",
       "                        <td id=\"T_8e83120a_9c49_11eb_a012_a0afbdd3367crow23_col0\" class=\"data row23 col0\" >1</td>\n",
       "                        <td id=\"T_8e83120a_9c49_11eb_a012_a0afbdd3367crow23_col1\" class=\"data row23 col1\" >1</td>\n",
       "            </tr>\n",
       "            <tr>\n",
       "                        <th id=\"T_8e83120a_9c49_11eb_a012_a0afbdd3367clevel0_row24\" class=\"row_heading level0 row24\" >192</th>\n",
       "                        <td id=\"T_8e83120a_9c49_11eb_a012_a0afbdd3367crow24_col0\" class=\"data row24 col0\" >1</td>\n",
       "                        <td id=\"T_8e83120a_9c49_11eb_a012_a0afbdd3367crow24_col1\" class=\"data row24 col1\" >1</td>\n",
       "            </tr>\n",
       "            <tr>\n",
       "                        <th id=\"T_8e83120a_9c49_11eb_a012_a0afbdd3367clevel0_row25\" class=\"row_heading level0 row25\" >191</th>\n",
       "                        <td id=\"T_8e83120a_9c49_11eb_a012_a0afbdd3367crow25_col0\" class=\"data row25 col0\" >2</td>\n",
       "                        <td id=\"T_8e83120a_9c49_11eb_a012_a0afbdd3367crow25_col1\" class=\"data row25 col1\" >2</td>\n",
       "            </tr>\n",
       "            <tr>\n",
       "                        <th id=\"T_8e83120a_9c49_11eb_a012_a0afbdd3367clevel0_row26\" class=\"row_heading level0 row26\" >257</th>\n",
       "                        <td id=\"T_8e83120a_9c49_11eb_a012_a0afbdd3367crow26_col0\" class=\"data row26 col0\" >2</td>\n",
       "                        <td id=\"T_8e83120a_9c49_11eb_a012_a0afbdd3367crow26_col1\" class=\"data row26 col1\" >2</td>\n",
       "            </tr>\n",
       "            <tr>\n",
       "                        <th id=\"T_8e83120a_9c49_11eb_a012_a0afbdd3367clevel0_row27\" class=\"row_heading level0 row27\" >93</th>\n",
       "                        <td id=\"T_8e83120a_9c49_11eb_a012_a0afbdd3367crow27_col0\" class=\"data row27 col0\" >2</td>\n",
       "                        <td id=\"T_8e83120a_9c49_11eb_a012_a0afbdd3367crow27_col1\" class=\"data row27 col1\" >2</td>\n",
       "            </tr>\n",
       "            <tr>\n",
       "                        <th id=\"T_8e83120a_9c49_11eb_a012_a0afbdd3367clevel0_row28\" class=\"row_heading level0 row28\" >147</th>\n",
       "                        <td id=\"T_8e83120a_9c49_11eb_a012_a0afbdd3367crow28_col0\" class=\"data row28 col0\" >2</td>\n",
       "                        <td id=\"T_8e83120a_9c49_11eb_a012_a0afbdd3367crow28_col1\" class=\"data row28 col1\" >2</td>\n",
       "            </tr>\n",
       "            <tr>\n",
       "                        <th id=\"T_8e83120a_9c49_11eb_a012_a0afbdd3367clevel0_row29\" class=\"row_heading level0 row29\" >54</th>\n",
       "                        <td id=\"T_8e83120a_9c49_11eb_a012_a0afbdd3367crow29_col0\" class=\"data row29 col0\" >1</td>\n",
       "                        <td id=\"T_8e83120a_9c49_11eb_a012_a0afbdd3367crow29_col1\" class=\"data row29 col1\" >1</td>\n",
       "            </tr>\n",
       "            <tr>\n",
       "                        <th id=\"T_8e83120a_9c49_11eb_a012_a0afbdd3367clevel0_row30\" class=\"row_heading level0 row30\" >198</th>\n",
       "                        <td id=\"T_8e83120a_9c49_11eb_a012_a0afbdd3367crow30_col0\" class=\"data row30 col0\" >1</td>\n",
       "                        <td id=\"T_8e83120a_9c49_11eb_a012_a0afbdd3367crow30_col1\" class=\"data row30 col1\" >1</td>\n",
       "            </tr>\n",
       "            <tr>\n",
       "                        <th id=\"T_8e83120a_9c49_11eb_a012_a0afbdd3367clevel0_row31\" class=\"row_heading level0 row31\" >135</th>\n",
       "                        <td id=\"T_8e83120a_9c49_11eb_a012_a0afbdd3367crow31_col0\" class=\"data row31 col0\" >1</td>\n",
       "                        <td id=\"T_8e83120a_9c49_11eb_a012_a0afbdd3367crow31_col1\" class=\"data row31 col1\" >1</td>\n",
       "            </tr>\n",
       "            <tr>\n",
       "                        <th id=\"T_8e83120a_9c49_11eb_a012_a0afbdd3367clevel0_row32\" class=\"row_heading level0 row32\" >255</th>\n",
       "                        <td id=\"T_8e83120a_9c49_11eb_a012_a0afbdd3367crow32_col0\" class=\"data row32 col0\" >1</td>\n",
       "                        <td id=\"T_8e83120a_9c49_11eb_a012_a0afbdd3367crow32_col1\" class=\"data row32 col1\" >1</td>\n",
       "            </tr>\n",
       "            <tr>\n",
       "                        <th id=\"T_8e83120a_9c49_11eb_a012_a0afbdd3367clevel0_row33\" class=\"row_heading level0 row33\" >20</th>\n",
       "                        <td id=\"T_8e83120a_9c49_11eb_a012_a0afbdd3367crow33_col0\" class=\"data row33 col0\" >2</td>\n",
       "                        <td id=\"T_8e83120a_9c49_11eb_a012_a0afbdd3367crow33_col1\" class=\"data row33 col1\" >2</td>\n",
       "            </tr>\n",
       "            <tr>\n",
       "                        <th id=\"T_8e83120a_9c49_11eb_a012_a0afbdd3367clevel0_row34\" class=\"row_heading level0 row34\" >254</th>\n",
       "                        <td id=\"T_8e83120a_9c49_11eb_a012_a0afbdd3367crow34_col0\" class=\"data row34 col0\" >1</td>\n",
       "                        <td id=\"T_8e83120a_9c49_11eb_a012_a0afbdd3367crow34_col1\" class=\"data row34 col1\" >1</td>\n",
       "            </tr>\n",
       "            <tr>\n",
       "                        <th id=\"T_8e83120a_9c49_11eb_a012_a0afbdd3367clevel0_row35\" class=\"row_heading level0 row35\" >224</th>\n",
       "                        <td id=\"T_8e83120a_9c49_11eb_a012_a0afbdd3367crow35_col0\" class=\"data row35 col0\" >1</td>\n",
       "                        <td id=\"T_8e83120a_9c49_11eb_a012_a0afbdd3367crow35_col1\" class=\"data row35 col1\" >1</td>\n",
       "            </tr>\n",
       "            <tr>\n",
       "                        <th id=\"T_8e83120a_9c49_11eb_a012_a0afbdd3367clevel0_row36\" class=\"row_heading level0 row36\" >205</th>\n",
       "                        <td id=\"T_8e83120a_9c49_11eb_a012_a0afbdd3367crow36_col0\" class=\"data row36 col0\" >1</td>\n",
       "                        <td id=\"T_8e83120a_9c49_11eb_a012_a0afbdd3367crow36_col1\" class=\"data row36 col1\" >1</td>\n",
       "            </tr>\n",
       "            <tr>\n",
       "                        <th id=\"T_8e83120a_9c49_11eb_a012_a0afbdd3367clevel0_row37\" class=\"row_heading level0 row37\" >183</th>\n",
       "                        <td id=\"T_8e83120a_9c49_11eb_a012_a0afbdd3367crow37_col0\" class=\"data row37 col0\" >1</td>\n",
       "                        <td id=\"T_8e83120a_9c49_11eb_a012_a0afbdd3367crow37_col1\" class=\"data row37 col1\" >1</td>\n",
       "            </tr>\n",
       "            <tr>\n",
       "                        <th id=\"T_8e83120a_9c49_11eb_a012_a0afbdd3367clevel0_row38\" class=\"row_heading level0 row38\" >1</th>\n",
       "                        <td id=\"T_8e83120a_9c49_11eb_a012_a0afbdd3367crow38_col0\" class=\"data row38 col0\" >1</td>\n",
       "                        <td id=\"T_8e83120a_9c49_11eb_a012_a0afbdd3367crow38_col1\" class=\"data row38 col1\" >2</td>\n",
       "            </tr>\n",
       "            <tr>\n",
       "                        <th id=\"T_8e83120a_9c49_11eb_a012_a0afbdd3367clevel0_row39\" class=\"row_heading level0 row39\" >73</th>\n",
       "                        <td id=\"T_8e83120a_9c49_11eb_a012_a0afbdd3367crow39_col0\" class=\"data row39 col0\" >1</td>\n",
       "                        <td id=\"T_8e83120a_9c49_11eb_a012_a0afbdd3367crow39_col1\" class=\"data row39 col1\" >1</td>\n",
       "            </tr>\n",
       "            <tr>\n",
       "                        <th id=\"T_8e83120a_9c49_11eb_a012_a0afbdd3367clevel0_row40\" class=\"row_heading level0 row40\" >203</th>\n",
       "                        <td id=\"T_8e83120a_9c49_11eb_a012_a0afbdd3367crow40_col0\" class=\"data row40 col0\" >2</td>\n",
       "                        <td id=\"T_8e83120a_9c49_11eb_a012_a0afbdd3367crow40_col1\" class=\"data row40 col1\" >2</td>\n",
       "            </tr>\n",
       "            <tr>\n",
       "                        <th id=\"T_8e83120a_9c49_11eb_a012_a0afbdd3367clevel0_row41\" class=\"row_heading level0 row41\" >2</th>\n",
       "                        <td id=\"T_8e83120a_9c49_11eb_a012_a0afbdd3367crow41_col0\" class=\"data row41 col0\" >2</td>\n",
       "                        <td id=\"T_8e83120a_9c49_11eb_a012_a0afbdd3367crow41_col1\" class=\"data row41 col1\" >1</td>\n",
       "            </tr>\n",
       "            <tr>\n",
       "                        <th id=\"T_8e83120a_9c49_11eb_a012_a0afbdd3367clevel0_row42\" class=\"row_heading level0 row42\" >193</th>\n",
       "                        <td id=\"T_8e83120a_9c49_11eb_a012_a0afbdd3367crow42_col0\" class=\"data row42 col0\" >2</td>\n",
       "                        <td id=\"T_8e83120a_9c49_11eb_a012_a0afbdd3367crow42_col1\" class=\"data row42 col1\" >2</td>\n",
       "            </tr>\n",
       "            <tr>\n",
       "                        <th id=\"T_8e83120a_9c49_11eb_a012_a0afbdd3367clevel0_row43\" class=\"row_heading level0 row43\" >178</th>\n",
       "                        <td id=\"T_8e83120a_9c49_11eb_a012_a0afbdd3367crow43_col0\" class=\"data row43 col0\" >2</td>\n",
       "                        <td id=\"T_8e83120a_9c49_11eb_a012_a0afbdd3367crow43_col1\" class=\"data row43 col1\" >2</td>\n",
       "            </tr>\n",
       "            <tr>\n",
       "                        <th id=\"T_8e83120a_9c49_11eb_a012_a0afbdd3367clevel0_row44\" class=\"row_heading level0 row44\" >235</th>\n",
       "                        <td id=\"T_8e83120a_9c49_11eb_a012_a0afbdd3367crow44_col0\" class=\"data row44 col0\" >2</td>\n",
       "                        <td id=\"T_8e83120a_9c49_11eb_a012_a0afbdd3367crow44_col1\" class=\"data row44 col1\" >2</td>\n",
       "            </tr>\n",
       "            <tr>\n",
       "                        <th id=\"T_8e83120a_9c49_11eb_a012_a0afbdd3367clevel0_row45\" class=\"row_heading level0 row45\" >118</th>\n",
       "                        <td id=\"T_8e83120a_9c49_11eb_a012_a0afbdd3367crow45_col0\" class=\"data row45 col0\" >1</td>\n",
       "                        <td id=\"T_8e83120a_9c49_11eb_a012_a0afbdd3367crow45_col1\" class=\"data row45 col1\" >1</td>\n",
       "            </tr>\n",
       "            <tr>\n",
       "                        <th id=\"T_8e83120a_9c49_11eb_a012_a0afbdd3367clevel0_row46\" class=\"row_heading level0 row46\" >148</th>\n",
       "                        <td id=\"T_8e83120a_9c49_11eb_a012_a0afbdd3367crow46_col0\" class=\"data row46 col0\" >2</td>\n",
       "                        <td id=\"T_8e83120a_9c49_11eb_a012_a0afbdd3367crow46_col1\" class=\"data row46 col1\" >2</td>\n",
       "            </tr>\n",
       "            <tr>\n",
       "                        <th id=\"T_8e83120a_9c49_11eb_a012_a0afbdd3367clevel0_row47\" class=\"row_heading level0 row47\" >188</th>\n",
       "                        <td id=\"T_8e83120a_9c49_11eb_a012_a0afbdd3367crow47_col0\" class=\"data row47 col0\" >1</td>\n",
       "                        <td id=\"T_8e83120a_9c49_11eb_a012_a0afbdd3367crow47_col1\" class=\"data row47 col1\" >1</td>\n",
       "            </tr>\n",
       "            <tr>\n",
       "                        <th id=\"T_8e83120a_9c49_11eb_a012_a0afbdd3367clevel0_row48\" class=\"row_heading level0 row48\" >150</th>\n",
       "                        <td id=\"T_8e83120a_9c49_11eb_a012_a0afbdd3367crow48_col0\" class=\"data row48 col0\" >1</td>\n",
       "                        <td id=\"T_8e83120a_9c49_11eb_a012_a0afbdd3367crow48_col1\" class=\"data row48 col1\" >1</td>\n",
       "            </tr>\n",
       "            <tr>\n",
       "                        <th id=\"T_8e83120a_9c49_11eb_a012_a0afbdd3367clevel0_row49\" class=\"row_heading level0 row49\" >161</th>\n",
       "                        <td id=\"T_8e83120a_9c49_11eb_a012_a0afbdd3367crow49_col0\" class=\"data row49 col0\" >2</td>\n",
       "                        <td id=\"T_8e83120a_9c49_11eb_a012_a0afbdd3367crow49_col1\" class=\"data row49 col1\" >1</td>\n",
       "            </tr>\n",
       "            <tr>\n",
       "                        <th id=\"T_8e83120a_9c49_11eb_a012_a0afbdd3367clevel0_row50\" class=\"row_heading level0 row50\" >10</th>\n",
       "                        <td id=\"T_8e83120a_9c49_11eb_a012_a0afbdd3367crow50_col0\" class=\"data row50 col0\" >1</td>\n",
       "                        <td id=\"T_8e83120a_9c49_11eb_a012_a0afbdd3367crow50_col1\" class=\"data row50 col1\" >2</td>\n",
       "            </tr>\n",
       "            <tr>\n",
       "                        <th id=\"T_8e83120a_9c49_11eb_a012_a0afbdd3367clevel0_row51\" class=\"row_heading level0 row51\" >81</th>\n",
       "                        <td id=\"T_8e83120a_9c49_11eb_a012_a0afbdd3367crow51_col0\" class=\"data row51 col0\" >2</td>\n",
       "                        <td id=\"T_8e83120a_9c49_11eb_a012_a0afbdd3367crow51_col1\" class=\"data row51 col1\" >2</td>\n",
       "            </tr>\n",
       "            <tr>\n",
       "                        <th id=\"T_8e83120a_9c49_11eb_a012_a0afbdd3367clevel0_row52\" class=\"row_heading level0 row52\" >46</th>\n",
       "                        <td id=\"T_8e83120a_9c49_11eb_a012_a0afbdd3367crow52_col0\" class=\"data row52 col0\" >2</td>\n",
       "                        <td id=\"T_8e83120a_9c49_11eb_a012_a0afbdd3367crow52_col1\" class=\"data row52 col1\" >1</td>\n",
       "            </tr>\n",
       "            <tr>\n",
       "                        <th id=\"T_8e83120a_9c49_11eb_a012_a0afbdd3367clevel0_row53\" class=\"row_heading level0 row53\" >87</th>\n",
       "                        <td id=\"T_8e83120a_9c49_11eb_a012_a0afbdd3367crow53_col0\" class=\"data row53 col0\" >1</td>\n",
       "                        <td id=\"T_8e83120a_9c49_11eb_a012_a0afbdd3367crow53_col1\" class=\"data row53 col1\" >2</td>\n",
       "            </tr>\n",
       "    </tbody></table>"
      ],
      "text/plain": [
       "<pandas.io.formats.style.Styler at 0x2b7de7a1c08>"
      ]
     },
     "execution_count": 120,
     "metadata": {},
     "output_type": "execute_result"
    }
   ],
   "source": [
    "df = pd.DataFrame({'Actual': y_test, 'Predicted': y_pred})\n",
    "df.style.set_table_styles([{'selector' : '', \n",
    "                            'props' : [('border', \n",
    "                                        '2px solid ')]}]) "
   ]
  },
  {
   "cell_type": "markdown",
   "metadata": {},
   "source": [
    "## 6.5. Creating the Confusion Matrix"
   ]
  },
  {
   "cell_type": "code",
   "execution_count": 121,
   "metadata": {},
   "outputs": [
    {
     "data": {
      "image/png": "[encoded data removed]",
      "text/plain": [
       "<Figure size 432x288 with 1 Axes>"
      ]
     },
     "metadata": {
      "needs_background": "light"
     },
     "output_type": "display_data"
    }
   ],
   "source": [
    "#Creating the Confusion matrix  \n",
    "from sklearn.metrics import confusion_matrix \n",
    "\n",
    "cm= confusion_matrix(y_test, y_pred) \n",
    "\n",
    "plt.clf()\n",
    "plt.imshow(cm, interpolation='nearest', cmap=plt.cm.Wistia)\n",
    "classNames = ['Negative','Positive']\n",
    "\n",
    "plt.ylabel('ACTUAL VALUES')\n",
    "plt.xlabel('PREDICTED VALUES')\n",
    "tick_marks = np.arange(len(classNames))\n",
    "plt.xticks(tick_marks, classNames, rotation=45)\n",
    "plt.yticks(tick_marks, classNames)\n",
    "s = [['TN','FP'], ['FN', 'TP']]\n",
    "for i in range(2):\n",
    "    for j in range(2):\n",
    "        plt.text(j,i, str(s[i][j])+\" = \"+str(cm[i][j]))\n",
    "plt.show()"
   ]
  },
  {
   "cell_type": "markdown",
   "metadata": {},
   "source": [
    "# 7. Classification Report:"
   ]
  },
  {
   "cell_type": "code",
   "execution_count": 122,
   "metadata": {},
   "outputs": [],
   "source": [
    "#Accuracy: equal to the fraction of predictions that a model got right.\n",
    "acc1= accuracy_score(y_test, y_pred1) #logistic\n",
    "acc2= accuracy_score(y_test, y_pred2) #knn\n",
    "acc3= accuracy_score(y_test, y_pred3) #svm\n",
    "acc4= accuracy_score(y_test, y_pred4) #naive\n",
    "acc= accuracy_score(y_test, y_pred) #Random Forest\n",
    "acc6= accuracy_score(y_test, y_pred6) #decision\n",
    "#Recall: attempts to answer “What proportion of actual positives was identified correctly?”   = tp/(tp+fn)\n",
    "prec1= sklearn.metrics.precision_score(y_test, y_pred1) #logistic\n",
    "prec2= sklearn.metrics.precision_score(y_test, y_pred2) #knn\n",
    "prec3= sklearn.metrics.precision_score(y_test, y_pred3) #svm\n",
    "prec4= sklearn.metrics.precision_score(y_test, y_pred4) #naive\n",
    "prec= sklearn.metrics.precision_score(y_test, y_pred) #Random Forest\n",
    "prec6= sklearn.metrics.precision_score(y_test, y_pred6) #decision\n",
    "#Precision: attempts to answer “What proportion of positive identifications was actually correct?”   =tp/(tp+fp)\n",
    "rec1 =sklearn.metrics.recall_score(y_test, y_pred1) #logistic\n",
    "rec2 =sklearn.metrics.recall_score(y_test, y_pred2) #knn\n",
    "rec3 =sklearn.metrics.recall_score(y_test, y_pred3) #svm\n",
    "rec4 =sklearn.metrics.recall_score(y_test, y_pred4) #naive\n",
    "rec =sklearn.metrics.recall_score(y_test, y_pred) #Random Forest\n",
    "rec6 =sklearn.metrics.recall_score(y_test, y_pred6) #decision"
   ]
  },
  {
   "cell_type": "code",
   "execution_count": 123,
   "metadata": {},
   "outputs": [
    {
     "data": {
      "text/html": [
       "<style  type=\"text/css\" >\n",
       "    #T_8f0519f6_9c49_11eb_a4c3_a0afbdd3367c  {\n",
       "          border: 2px solid ;\n",
       "    }</style><table id=\"T_8f0519f6_9c49_11eb_a4c3_a0afbdd3367c\" ><thead>    <tr>        <th class=\"blank level0\" ></th>        <th class=\"col_heading level0 col0\" >Model</th>        <th class=\"col_heading level0 col1\" >Accuracy</th>        <th class=\"col_heading level0 col2\" >Precision</th>        <th class=\"col_heading level0 col3\" >Recall</th>    </tr></thead><tbody>\n",
       "                <tr>\n",
       "                        <th id=\"T_8f0519f6_9c49_11eb_a4c3_a0afbdd3367clevel0_row0\" class=\"row_heading level0 row0\" >0</th>\n",
       "                        <td id=\"T_8f0519f6_9c49_11eb_a4c3_a0afbdd3367crow0_col0\" class=\"data row0 col0\" >Logistic regression </td>\n",
       "                        <td id=\"T_8f0519f6_9c49_11eb_a4c3_a0afbdd3367crow0_col1\" class=\"data row0 col1\" >0.851852</td>\n",
       "                        <td id=\"T_8f0519f6_9c49_11eb_a4c3_a0afbdd3367crow0_col2\" class=\"data row0 col2\" >0.892857</td>\n",
       "                        <td id=\"T_8f0519f6_9c49_11eb_a4c3_a0afbdd3367crow0_col3\" class=\"data row0 col3\" >0.833333</td>\n",
       "            </tr>\n",
       "            <tr>\n",
       "                        <th id=\"T_8f0519f6_9c49_11eb_a4c3_a0afbdd3367clevel0_row1\" class=\"row_heading level0 row1\" >1</th>\n",
       "                        <td id=\"T_8f0519f6_9c49_11eb_a4c3_a0afbdd3367crow1_col0\" class=\"data row1 col0\" >K-N-N </td>\n",
       "                        <td id=\"T_8f0519f6_9c49_11eb_a4c3_a0afbdd3367crow1_col1\" class=\"data row1 col1\" >0.814815</td>\n",
       "                        <td id=\"T_8f0519f6_9c49_11eb_a4c3_a0afbdd3367crow1_col2\" class=\"data row1 col2\" >0.857143</td>\n",
       "                        <td id=\"T_8f0519f6_9c49_11eb_a4c3_a0afbdd3367crow1_col3\" class=\"data row1 col3\" >0.800000</td>\n",
       "            </tr>\n",
       "            <tr>\n",
       "                        <th id=\"T_8f0519f6_9c49_11eb_a4c3_a0afbdd3367clevel0_row2\" class=\"row_heading level0 row2\" >2</th>\n",
       "                        <td id=\"T_8f0519f6_9c49_11eb_a4c3_a0afbdd3367crow2_col0\" class=\"data row2 col0\" >SVM </td>\n",
       "                        <td id=\"T_8f0519f6_9c49_11eb_a4c3_a0afbdd3367crow2_col1\" class=\"data row2 col1\" >0.833333</td>\n",
       "                        <td id=\"T_8f0519f6_9c49_11eb_a4c3_a0afbdd3367crow2_col2\" class=\"data row2 col2\" >0.888889</td>\n",
       "                        <td id=\"T_8f0519f6_9c49_11eb_a4c3_a0afbdd3367crow2_col3\" class=\"data row2 col3\" >0.800000</td>\n",
       "            </tr>\n",
       "            <tr>\n",
       "                        <th id=\"T_8f0519f6_9c49_11eb_a4c3_a0afbdd3367clevel0_row3\" class=\"row_heading level0 row3\" >3</th>\n",
       "                        <td id=\"T_8f0519f6_9c49_11eb_a4c3_a0afbdd3367crow3_col0\" class=\"data row3 col0\" >Naives Bayes  </td>\n",
       "                        <td id=\"T_8f0519f6_9c49_11eb_a4c3_a0afbdd3367crow3_col1\" class=\"data row3 col1\" >0.777778</td>\n",
       "                        <td id=\"T_8f0519f6_9c49_11eb_a4c3_a0afbdd3367crow3_col2\" class=\"data row3 col2\" >0.800000</td>\n",
       "                        <td id=\"T_8f0519f6_9c49_11eb_a4c3_a0afbdd3367crow3_col3\" class=\"data row3 col3\" >0.800000</td>\n",
       "            </tr>\n",
       "            <tr>\n",
       "                        <th id=\"T_8f0519f6_9c49_11eb_a4c3_a0afbdd3367clevel0_row4\" class=\"row_heading level0 row4\" >4</th>\n",
       "                        <td id=\"T_8f0519f6_9c49_11eb_a4c3_a0afbdd3367crow4_col0\" class=\"data row4 col0\" >Random Forest </td>\n",
       "                        <td id=\"T_8f0519f6_9c49_11eb_a4c3_a0afbdd3367crow4_col1\" class=\"data row4 col1\" >0.814815</td>\n",
       "                        <td id=\"T_8f0519f6_9c49_11eb_a4c3_a0afbdd3367crow4_col2\" class=\"data row4 col2\" >0.857143</td>\n",
       "                        <td id=\"T_8f0519f6_9c49_11eb_a4c3_a0afbdd3367crow4_col3\" class=\"data row4 col3\" >0.800000</td>\n",
       "            </tr>\n",
       "            <tr>\n",
       "                        <th id=\"T_8f0519f6_9c49_11eb_a4c3_a0afbdd3367clevel0_row5\" class=\"row_heading level0 row5\" >5</th>\n",
       "                        <td id=\"T_8f0519f6_9c49_11eb_a4c3_a0afbdd3367crow5_col0\" class=\"data row5 col0\" >Decision Tree </td>\n",
       "                        <td id=\"T_8f0519f6_9c49_11eb_a4c3_a0afbdd3367crow5_col1\" class=\"data row5 col1\" >0.814815</td>\n",
       "                        <td id=\"T_8f0519f6_9c49_11eb_a4c3_a0afbdd3367crow5_col2\" class=\"data row5 col2\" >0.857143</td>\n",
       "                        <td id=\"T_8f0519f6_9c49_11eb_a4c3_a0afbdd3367crow5_col3\" class=\"data row5 col3\" >0.800000</td>\n",
       "            </tr>\n",
       "    </tbody></table>"
      ],
      "text/plain": [
       "<pandas.io.formats.style.Styler at 0x2b7de8466c8>"
      ]
     },
     "execution_count": 123,
     "metadata": {},
     "output_type": "execute_result"
    }
   ],
   "source": [
    "model_results =pd.DataFrame([['Logistic regression ',acc1, prec1,rec1,],['K-N-N ',acc2, prec2,rec2,],['SVM ',acc3, prec3,rec3,],['Naives Bayes  ',acc4, prec4,rec4,],['Random Forest ',acc, prec,rec,],['Decision Tree ',acc6, prec6,rec6,]],\n",
    "               columns = ['Model', 'Accuracy','Precision', 'Recall'])\n",
    "model_results.style.set_table_styles([{'selector' : '', \n",
    "                            'props' : [('border', \n",
    "                                        '2px solid ')]}]) "
   ]
  },
  {
   "cell_type": "markdown",
   "metadata": {},
   "source": [
    "# 8. Conclusion:\n",
    "    "
   ]
  },
  {
   "cell_type": "markdown",
   "metadata": {},
   "source": [
    "1. Out of the 13 features we examined, the top 4 significant features that helped us classify between a positive & negative Diagnosis were chest pain type (cp), maximum heart rate achieved (thalach), number of major vessels (ca), and ST depression induced by exercise relative to rest (oldpeak).\n",
    "2. Our machine learning algorithm can now classify patients with Heart Disease. Now we can properly diagnose patients, & get them the help they needs to recover. By diagnosing detecting these features early, we may prevent worse symptoms from arising later.\n",
    "3. Our Random Forest algorithm yields one of the highest accuracy, 81%. Any accuracy above 70% is considered good, but be careful because if your accuracy is extremely high, it may be too good to be true (an example of Over fitting). Thus, 81% is the ideal accuracy!"
   ]
  },
  {
   "cell_type": "code",
   "execution_count": null,
   "metadata": {},
   "outputs": [],
   "source": []
  }
 ],
 "metadata": {
  "kernelspec": {
   "display_name": "Python 3",
   "language": "python",
   "name": "python3"
  },
  "language_info": {
   "codemirror_mode": {
    "name": "ipython",
    "version": 3
   },
   "file_extension": ".py",
   "mimetype": "text/x-python",
   "name": "python",
   "nbconvert_exporter": "python",
   "pygments_lexer": "ipython3",
   "version": "3.7.6"
  }
 },
 "nbformat": 4,
 "nbformat_minor": 4
}
